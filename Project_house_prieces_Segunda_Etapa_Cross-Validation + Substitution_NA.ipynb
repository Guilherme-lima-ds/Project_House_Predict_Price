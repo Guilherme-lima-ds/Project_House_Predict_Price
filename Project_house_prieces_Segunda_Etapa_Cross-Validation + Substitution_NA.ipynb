{
 "cells": [
  {
   "cell_type": "markdown",
   "id": "ae4f1db0",
   "metadata": {},
   "source": [
    "# 0.0.Entendimento Do Problema de Negócio"
   ]
  },
  {
   "cell_type": "markdown",
   "id": "f9e7b1d5",
   "metadata": {},
   "source": [
    "- Objetivo do Problema\n",
    "    - 1.0.Previsão do preço final para cada casa.\n",
    "- Por que?\n",
    "    - Qual o Tipo de modelo Negocio que estamos lidando?\n",
    "        - Estamos lidando com um tipo de négocio de compra e venda de casas.\n",
    "           - Comprar casas por um preço menor e vender por um preço mais caro\n",
    "    - Como a empresa ganha dinheiro?(A grosso modo)\n",
    "        - A empresa ganha dinheiro comprando casas por um preço menor e vendendo por um preço maior.\n",
    "            - Receita: Venda - Compra = Receita.\n",
    "            \n",
    "- Contexto:\n",
    "    - Possivelmente o problema aqui e a automação da precificação dos preços das casas, pois a empresa está querendo comprar mais imóveis e não sabe o preço que aquele imóvel deveria estar, e por esse motivo acaba deixando passar boas oportunidades de compra ou até comprando imóveis que estão com o preço além do que deveria estar.\n",
    "           \n",
    "- Proposta de Solução\n",
    "    - 1.0.Para descobrir o preço justo da casa eu vou fazer um modelo preditivo que dada as caracteristicas nos de o preço do imóvel.\n",
    "    - 2.0.Como o modelo vai ajudar a empresa a ganhar mais dinheiro?\n",
    "        - O modelo vai ajudar na hora de comprar um imóvel, como ele vai nos trazer a precificação que aquele imóvel deveria estar, o comprador vai saber exatamente se está comprando um imóvel que está com o preço abaixo ou acima do que deveria estar, tendo essa informação em mãoes ele vai poder negociar de uma melhor forma a compra de um imóvel, afetando assim diretamente a Receita da empresa, pois ele vai saber as melhores oportunidades de compra, consequentemente comprando mais barato e no futuro vendendo mais caro, assim aumentando a Receita da empresa.\n",
    "    - 2.0.Produto Final(O que eu vou entregar no fim do projeto)\n",
    "       - WebApp\n",
    "         - Input: Recebe as caracteristicas da casa\n",
    "         - Output: Retorna o preço da casa."
   ]
  },
  {
   "cell_type": "markdown",
   "id": "246c1a00",
   "metadata": {},
   "source": [
    "# 1.0.Imports"
   ]
  },
  {
   "cell_type": "code",
   "execution_count": 30,
   "id": "85c21811",
   "metadata": {
    "ExecuteTime": {
     "end_time": "2022-06-02T18:40:22.426814Z",
     "start_time": "2022-06-02T18:40:22.419818Z"
    }
   },
   "outputs": [],
   "source": [
    "import pandas as pd\n",
    "import numpy as np\n",
    "import seaborn as sns\n",
    "from matplotlib import pyplot as plt\n",
    "from sklearn.model_selection import train_test_split, StratifiedKFold\n",
    "from sklearn.linear_model import LinearRegression\n",
    "from sklearn.ensemble import RandomForestRegressor\n",
    "from sklearn.metrics import r2_score, mean_absolute_error, mean_absolute_percentage_error, mean_squared_error\n",
    "#Show all columns\n",
    "pd.set_option('display.max_columns', None)\n",
    "\n",
    "#filter warnings\n",
    "import warnings\n",
    "warnings.filterwarnings('ignore')"
   ]
  },
  {
   "cell_type": "markdown",
   "id": "ccc2ef6e",
   "metadata": {},
   "source": [
    "## 1.1.Load Data"
   ]
  },
  {
   "cell_type": "code",
   "execution_count": 2,
   "id": "9fe8b213",
   "metadata": {
    "ExecuteTime": {
     "end_time": "2022-06-02T18:31:57.990135Z",
     "start_time": "2022-06-02T18:31:57.944132Z"
    }
   },
   "outputs": [],
   "source": [
    "df_train = pd.read_csv('datasets/train.csv')"
   ]
  },
  {
   "cell_type": "markdown",
   "id": "dcd6c93b",
   "metadata": {},
   "source": [
    "## 1.2.Help Functions"
   ]
  },
  {
   "cell_type": "code",
   "execution_count": 46,
   "id": "d76f6145",
   "metadata": {
    "ExecuteTime": {
     "end_time": "2022-06-02T18:49:59.317115Z",
     "start_time": "2022-06-02T18:49:59.301108Z"
    }
   },
   "outputs": [],
   "source": [
    "def cross_validation(nome_modelo,model,num_folds,x_train,y_train,verbose=False):\n",
    "    r2_list  = []\n",
    "    rmse_list   = []\n",
    "    mae_list    = []\n",
    "    mape_list   = []\n",
    "    \n",
    "    #generate k-fold\n",
    "    Kfold = StratifiedKFold(n_splits=num_folds,shuffle=True,random_state=32)\n",
    "    \n",
    "    i=1\n",
    "    for train_ix, val_ix in Kfold.split(X_train,y_train):\n",
    "        if verbose:\n",
    "            print('Fold Number: {}/{}'.format(i,num_folds))\n",
    "        \n",
    "        #get fold\n",
    "        x_train_fold = X_train.iloc[train_ix]\n",
    "        y_train_fold = y_train.iloc[train_ix]\n",
    "        \n",
    "        x_val_fold = X_train.iloc[val_ix]\n",
    "        y_val_fold = y_train.iloc[val_ix]\n",
    "        \n",
    "        \n",
    "        #Model train\n",
    "        model.fit(x_train_fold,y_train_fold)\n",
    "\n",
    "        #prediction\n",
    "        pred_nn = model.predict(x_val_fold)\n",
    "\n",
    "\n",
    "        #Metrics\n",
    "        mae = mean_absolute_error(y_val_fold, pred_nn)\n",
    "        mae_list.append(mae)\n",
    "\n",
    "        mape = mean_absolute_percentage_error(y_val_fold,pred_nn)\n",
    "        mape_list.append(mape)\n",
    "\n",
    "        r2 = r2_score(y_val_fold,pred_nn)\n",
    "        r2_list.append(r2)\n",
    "\n",
    "        rmse = np.sqrt(mean_squared_error(y_val_fold,pred_nn))\n",
    "        rmse_list.append(rmse)\n",
    "\n",
    "        i+=1\n",
    "    return pd.DataFrame({'Nome Modelo':nome_modelo,\n",
    "                         'MAE CV':np.round(np.mean(mae_list),2).astype(str) +  ' +/- ' +np.round(np.std(mae_list),2).astype(str),\n",
    "                         'MAPE CV':np.round(np.mean(mape_list),2).astype(str) +  ' +/- ' +np.round(np.std(mape_list),2).astype(str),\n",
    "                         'RMSE CV':np.round(np.mean(rmse_list),2).astype(str) +  ' +/- ' +np.round(np.std(rmse_list),2).astype(str),\n",
    "                         'R² CV':np.round(np.mean(r2_list),2).astype(str) +  ' +/- ' +np.round(np.std(r2_list),2).astype(str)},index=[0])\n",
    "        \n",
    "def avaliar_modelo(nome_modelo,y_test,previsao):\n",
    "    mae = mean_absolute_error(y_test,previsao)\n",
    "    mape = mean_absolute_percentage_error(y_test,previsao)\n",
    "    r2 = r2_score(y_test,previsao)\n",
    "    rmse = np.sqrt(mean_squared_error(y_test,previsao))\n",
    "\n",
    "    return pd.DataFrame({'Model name':nome_modelo,\n",
    "                         'MAE':'{:.2f}'.format(mae),\n",
    "                         'MAPE':'{:.2%}'.format(mape),\n",
    "                         'RMSE':'{:.2f}'.format(rmse),\n",
    "                         'R²':'{:.2%}'.format(r2)},index=[0])"
   ]
  },
  {
   "cell_type": "markdown",
   "id": "bcc9c6d6",
   "metadata": {},
   "source": [
    "# 2.0.Data Descripition"
   ]
  },
  {
   "cell_type": "code",
   "execution_count": 4,
   "id": "97c32706",
   "metadata": {
    "ExecuteTime": {
     "end_time": "2022-06-02T18:31:58.289819Z",
     "start_time": "2022-06-02T18:31:58.074242Z"
    }
   },
   "outputs": [
    {
     "data": {
      "text/html": [
       "<div>\n",
       "<style scoped>\n",
       "    .dataframe tbody tr th:only-of-type {\n",
       "        vertical-align: middle;\n",
       "    }\n",
       "\n",
       "    .dataframe tbody tr th {\n",
       "        vertical-align: top;\n",
       "    }\n",
       "\n",
       "    .dataframe thead th {\n",
       "        text-align: right;\n",
       "    }\n",
       "</style>\n",
       "<table border=\"1\" class=\"dataframe\">\n",
       "  <thead>\n",
       "    <tr style=\"text-align: right;\">\n",
       "      <th></th>\n",
       "      <th>Id</th>\n",
       "      <th>MSSubClass</th>\n",
       "      <th>MSZoning</th>\n",
       "      <th>LotFrontage</th>\n",
       "      <th>LotArea</th>\n",
       "      <th>Street</th>\n",
       "      <th>Alley</th>\n",
       "      <th>LotShape</th>\n",
       "      <th>LandContour</th>\n",
       "      <th>Utilities</th>\n",
       "      <th>LotConfig</th>\n",
       "      <th>LandSlope</th>\n",
       "      <th>Neighborhood</th>\n",
       "      <th>Condition1</th>\n",
       "      <th>Condition2</th>\n",
       "      <th>BldgType</th>\n",
       "      <th>HouseStyle</th>\n",
       "      <th>OverallQual</th>\n",
       "      <th>OverallCond</th>\n",
       "      <th>YearBuilt</th>\n",
       "      <th>YearRemodAdd</th>\n",
       "      <th>RoofStyle</th>\n",
       "      <th>RoofMatl</th>\n",
       "      <th>Exterior1st</th>\n",
       "      <th>Exterior2nd</th>\n",
       "      <th>MasVnrType</th>\n",
       "      <th>MasVnrArea</th>\n",
       "      <th>ExterQual</th>\n",
       "      <th>ExterCond</th>\n",
       "      <th>Foundation</th>\n",
       "      <th>BsmtQual</th>\n",
       "      <th>BsmtCond</th>\n",
       "      <th>BsmtExposure</th>\n",
       "      <th>BsmtFinType1</th>\n",
       "      <th>BsmtFinSF1</th>\n",
       "      <th>BsmtFinType2</th>\n",
       "      <th>BsmtFinSF2</th>\n",
       "      <th>BsmtUnfSF</th>\n",
       "      <th>TotalBsmtSF</th>\n",
       "      <th>Heating</th>\n",
       "      <th>HeatingQC</th>\n",
       "      <th>CentralAir</th>\n",
       "      <th>Electrical</th>\n",
       "      <th>1stFlrSF</th>\n",
       "      <th>2ndFlrSF</th>\n",
       "      <th>LowQualFinSF</th>\n",
       "      <th>GrLivArea</th>\n",
       "      <th>BsmtFullBath</th>\n",
       "      <th>BsmtHalfBath</th>\n",
       "      <th>FullBath</th>\n",
       "      <th>HalfBath</th>\n",
       "      <th>BedroomAbvGr</th>\n",
       "      <th>KitchenAbvGr</th>\n",
       "      <th>KitchenQual</th>\n",
       "      <th>TotRmsAbvGrd</th>\n",
       "      <th>Functional</th>\n",
       "      <th>Fireplaces</th>\n",
       "      <th>FireplaceQu</th>\n",
       "      <th>GarageType</th>\n",
       "      <th>GarageYrBlt</th>\n",
       "      <th>GarageFinish</th>\n",
       "      <th>GarageCars</th>\n",
       "      <th>GarageArea</th>\n",
       "      <th>GarageQual</th>\n",
       "      <th>GarageCond</th>\n",
       "      <th>PavedDrive</th>\n",
       "      <th>WoodDeckSF</th>\n",
       "      <th>OpenPorchSF</th>\n",
       "      <th>EnclosedPorch</th>\n",
       "      <th>3SsnPorch</th>\n",
       "      <th>ScreenPorch</th>\n",
       "      <th>PoolArea</th>\n",
       "      <th>PoolQC</th>\n",
       "      <th>Fence</th>\n",
       "      <th>MiscFeature</th>\n",
       "      <th>MiscVal</th>\n",
       "      <th>MoSold</th>\n",
       "      <th>YrSold</th>\n",
       "      <th>SaleType</th>\n",
       "      <th>SaleCondition</th>\n",
       "      <th>SalePrice</th>\n",
       "    </tr>\n",
       "  </thead>\n",
       "  <tbody>\n",
       "    <tr>\n",
       "      <th>0</th>\n",
       "      <td>1</td>\n",
       "      <td>60</td>\n",
       "      <td>RL</td>\n",
       "      <td>65.0</td>\n",
       "      <td>8450</td>\n",
       "      <td>Pave</td>\n",
       "      <td>NaN</td>\n",
       "      <td>Reg</td>\n",
       "      <td>Lvl</td>\n",
       "      <td>AllPub</td>\n",
       "      <td>Inside</td>\n",
       "      <td>Gtl</td>\n",
       "      <td>CollgCr</td>\n",
       "      <td>Norm</td>\n",
       "      <td>Norm</td>\n",
       "      <td>1Fam</td>\n",
       "      <td>2Story</td>\n",
       "      <td>7</td>\n",
       "      <td>5</td>\n",
       "      <td>2003</td>\n",
       "      <td>2003</td>\n",
       "      <td>Gable</td>\n",
       "      <td>CompShg</td>\n",
       "      <td>VinylSd</td>\n",
       "      <td>VinylSd</td>\n",
       "      <td>BrkFace</td>\n",
       "      <td>196.0</td>\n",
       "      <td>Gd</td>\n",
       "      <td>TA</td>\n",
       "      <td>PConc</td>\n",
       "      <td>Gd</td>\n",
       "      <td>TA</td>\n",
       "      <td>No</td>\n",
       "      <td>GLQ</td>\n",
       "      <td>706</td>\n",
       "      <td>Unf</td>\n",
       "      <td>0</td>\n",
       "      <td>150</td>\n",
       "      <td>856</td>\n",
       "      <td>GasA</td>\n",
       "      <td>Ex</td>\n",
       "      <td>Y</td>\n",
       "      <td>SBrkr</td>\n",
       "      <td>856</td>\n",
       "      <td>854</td>\n",
       "      <td>0</td>\n",
       "      <td>1710</td>\n",
       "      <td>1</td>\n",
       "      <td>0</td>\n",
       "      <td>2</td>\n",
       "      <td>1</td>\n",
       "      <td>3</td>\n",
       "      <td>1</td>\n",
       "      <td>Gd</td>\n",
       "      <td>8</td>\n",
       "      <td>Typ</td>\n",
       "      <td>0</td>\n",
       "      <td>NaN</td>\n",
       "      <td>Attchd</td>\n",
       "      <td>2003.0</td>\n",
       "      <td>RFn</td>\n",
       "      <td>2</td>\n",
       "      <td>548</td>\n",
       "      <td>TA</td>\n",
       "      <td>TA</td>\n",
       "      <td>Y</td>\n",
       "      <td>0</td>\n",
       "      <td>61</td>\n",
       "      <td>0</td>\n",
       "      <td>0</td>\n",
       "      <td>0</td>\n",
       "      <td>0</td>\n",
       "      <td>NaN</td>\n",
       "      <td>NaN</td>\n",
       "      <td>NaN</td>\n",
       "      <td>0</td>\n",
       "      <td>2</td>\n",
       "      <td>2008</td>\n",
       "      <td>WD</td>\n",
       "      <td>Normal</td>\n",
       "      <td>208500</td>\n",
       "    </tr>\n",
       "    <tr>\n",
       "      <th>1</th>\n",
       "      <td>2</td>\n",
       "      <td>20</td>\n",
       "      <td>RL</td>\n",
       "      <td>80.0</td>\n",
       "      <td>9600</td>\n",
       "      <td>Pave</td>\n",
       "      <td>NaN</td>\n",
       "      <td>Reg</td>\n",
       "      <td>Lvl</td>\n",
       "      <td>AllPub</td>\n",
       "      <td>FR2</td>\n",
       "      <td>Gtl</td>\n",
       "      <td>Veenker</td>\n",
       "      <td>Feedr</td>\n",
       "      <td>Norm</td>\n",
       "      <td>1Fam</td>\n",
       "      <td>1Story</td>\n",
       "      <td>6</td>\n",
       "      <td>8</td>\n",
       "      <td>1976</td>\n",
       "      <td>1976</td>\n",
       "      <td>Gable</td>\n",
       "      <td>CompShg</td>\n",
       "      <td>MetalSd</td>\n",
       "      <td>MetalSd</td>\n",
       "      <td>None</td>\n",
       "      <td>0.0</td>\n",
       "      <td>TA</td>\n",
       "      <td>TA</td>\n",
       "      <td>CBlock</td>\n",
       "      <td>Gd</td>\n",
       "      <td>TA</td>\n",
       "      <td>Gd</td>\n",
       "      <td>ALQ</td>\n",
       "      <td>978</td>\n",
       "      <td>Unf</td>\n",
       "      <td>0</td>\n",
       "      <td>284</td>\n",
       "      <td>1262</td>\n",
       "      <td>GasA</td>\n",
       "      <td>Ex</td>\n",
       "      <td>Y</td>\n",
       "      <td>SBrkr</td>\n",
       "      <td>1262</td>\n",
       "      <td>0</td>\n",
       "      <td>0</td>\n",
       "      <td>1262</td>\n",
       "      <td>0</td>\n",
       "      <td>1</td>\n",
       "      <td>2</td>\n",
       "      <td>0</td>\n",
       "      <td>3</td>\n",
       "      <td>1</td>\n",
       "      <td>TA</td>\n",
       "      <td>6</td>\n",
       "      <td>Typ</td>\n",
       "      <td>1</td>\n",
       "      <td>TA</td>\n",
       "      <td>Attchd</td>\n",
       "      <td>1976.0</td>\n",
       "      <td>RFn</td>\n",
       "      <td>2</td>\n",
       "      <td>460</td>\n",
       "      <td>TA</td>\n",
       "      <td>TA</td>\n",
       "      <td>Y</td>\n",
       "      <td>298</td>\n",
       "      <td>0</td>\n",
       "      <td>0</td>\n",
       "      <td>0</td>\n",
       "      <td>0</td>\n",
       "      <td>0</td>\n",
       "      <td>NaN</td>\n",
       "      <td>NaN</td>\n",
       "      <td>NaN</td>\n",
       "      <td>0</td>\n",
       "      <td>5</td>\n",
       "      <td>2007</td>\n",
       "      <td>WD</td>\n",
       "      <td>Normal</td>\n",
       "      <td>181500</td>\n",
       "    </tr>\n",
       "    <tr>\n",
       "      <th>2</th>\n",
       "      <td>3</td>\n",
       "      <td>60</td>\n",
       "      <td>RL</td>\n",
       "      <td>68.0</td>\n",
       "      <td>11250</td>\n",
       "      <td>Pave</td>\n",
       "      <td>NaN</td>\n",
       "      <td>IR1</td>\n",
       "      <td>Lvl</td>\n",
       "      <td>AllPub</td>\n",
       "      <td>Inside</td>\n",
       "      <td>Gtl</td>\n",
       "      <td>CollgCr</td>\n",
       "      <td>Norm</td>\n",
       "      <td>Norm</td>\n",
       "      <td>1Fam</td>\n",
       "      <td>2Story</td>\n",
       "      <td>7</td>\n",
       "      <td>5</td>\n",
       "      <td>2001</td>\n",
       "      <td>2002</td>\n",
       "      <td>Gable</td>\n",
       "      <td>CompShg</td>\n",
       "      <td>VinylSd</td>\n",
       "      <td>VinylSd</td>\n",
       "      <td>BrkFace</td>\n",
       "      <td>162.0</td>\n",
       "      <td>Gd</td>\n",
       "      <td>TA</td>\n",
       "      <td>PConc</td>\n",
       "      <td>Gd</td>\n",
       "      <td>TA</td>\n",
       "      <td>Mn</td>\n",
       "      <td>GLQ</td>\n",
       "      <td>486</td>\n",
       "      <td>Unf</td>\n",
       "      <td>0</td>\n",
       "      <td>434</td>\n",
       "      <td>920</td>\n",
       "      <td>GasA</td>\n",
       "      <td>Ex</td>\n",
       "      <td>Y</td>\n",
       "      <td>SBrkr</td>\n",
       "      <td>920</td>\n",
       "      <td>866</td>\n",
       "      <td>0</td>\n",
       "      <td>1786</td>\n",
       "      <td>1</td>\n",
       "      <td>0</td>\n",
       "      <td>2</td>\n",
       "      <td>1</td>\n",
       "      <td>3</td>\n",
       "      <td>1</td>\n",
       "      <td>Gd</td>\n",
       "      <td>6</td>\n",
       "      <td>Typ</td>\n",
       "      <td>1</td>\n",
       "      <td>TA</td>\n",
       "      <td>Attchd</td>\n",
       "      <td>2001.0</td>\n",
       "      <td>RFn</td>\n",
       "      <td>2</td>\n",
       "      <td>608</td>\n",
       "      <td>TA</td>\n",
       "      <td>TA</td>\n",
       "      <td>Y</td>\n",
       "      <td>0</td>\n",
       "      <td>42</td>\n",
       "      <td>0</td>\n",
       "      <td>0</td>\n",
       "      <td>0</td>\n",
       "      <td>0</td>\n",
       "      <td>NaN</td>\n",
       "      <td>NaN</td>\n",
       "      <td>NaN</td>\n",
       "      <td>0</td>\n",
       "      <td>9</td>\n",
       "      <td>2008</td>\n",
       "      <td>WD</td>\n",
       "      <td>Normal</td>\n",
       "      <td>223500</td>\n",
       "    </tr>\n",
       "    <tr>\n",
       "      <th>3</th>\n",
       "      <td>4</td>\n",
       "      <td>70</td>\n",
       "      <td>RL</td>\n",
       "      <td>60.0</td>\n",
       "      <td>9550</td>\n",
       "      <td>Pave</td>\n",
       "      <td>NaN</td>\n",
       "      <td>IR1</td>\n",
       "      <td>Lvl</td>\n",
       "      <td>AllPub</td>\n",
       "      <td>Corner</td>\n",
       "      <td>Gtl</td>\n",
       "      <td>Crawfor</td>\n",
       "      <td>Norm</td>\n",
       "      <td>Norm</td>\n",
       "      <td>1Fam</td>\n",
       "      <td>2Story</td>\n",
       "      <td>7</td>\n",
       "      <td>5</td>\n",
       "      <td>1915</td>\n",
       "      <td>1970</td>\n",
       "      <td>Gable</td>\n",
       "      <td>CompShg</td>\n",
       "      <td>Wd Sdng</td>\n",
       "      <td>Wd Shng</td>\n",
       "      <td>None</td>\n",
       "      <td>0.0</td>\n",
       "      <td>TA</td>\n",
       "      <td>TA</td>\n",
       "      <td>BrkTil</td>\n",
       "      <td>TA</td>\n",
       "      <td>Gd</td>\n",
       "      <td>No</td>\n",
       "      <td>ALQ</td>\n",
       "      <td>216</td>\n",
       "      <td>Unf</td>\n",
       "      <td>0</td>\n",
       "      <td>540</td>\n",
       "      <td>756</td>\n",
       "      <td>GasA</td>\n",
       "      <td>Gd</td>\n",
       "      <td>Y</td>\n",
       "      <td>SBrkr</td>\n",
       "      <td>961</td>\n",
       "      <td>756</td>\n",
       "      <td>0</td>\n",
       "      <td>1717</td>\n",
       "      <td>1</td>\n",
       "      <td>0</td>\n",
       "      <td>1</td>\n",
       "      <td>0</td>\n",
       "      <td>3</td>\n",
       "      <td>1</td>\n",
       "      <td>Gd</td>\n",
       "      <td>7</td>\n",
       "      <td>Typ</td>\n",
       "      <td>1</td>\n",
       "      <td>Gd</td>\n",
       "      <td>Detchd</td>\n",
       "      <td>1998.0</td>\n",
       "      <td>Unf</td>\n",
       "      <td>3</td>\n",
       "      <td>642</td>\n",
       "      <td>TA</td>\n",
       "      <td>TA</td>\n",
       "      <td>Y</td>\n",
       "      <td>0</td>\n",
       "      <td>35</td>\n",
       "      <td>272</td>\n",
       "      <td>0</td>\n",
       "      <td>0</td>\n",
       "      <td>0</td>\n",
       "      <td>NaN</td>\n",
       "      <td>NaN</td>\n",
       "      <td>NaN</td>\n",
       "      <td>0</td>\n",
       "      <td>2</td>\n",
       "      <td>2006</td>\n",
       "      <td>WD</td>\n",
       "      <td>Abnorml</td>\n",
       "      <td>140000</td>\n",
       "    </tr>\n",
       "    <tr>\n",
       "      <th>4</th>\n",
       "      <td>5</td>\n",
       "      <td>60</td>\n",
       "      <td>RL</td>\n",
       "      <td>84.0</td>\n",
       "      <td>14260</td>\n",
       "      <td>Pave</td>\n",
       "      <td>NaN</td>\n",
       "      <td>IR1</td>\n",
       "      <td>Lvl</td>\n",
       "      <td>AllPub</td>\n",
       "      <td>FR2</td>\n",
       "      <td>Gtl</td>\n",
       "      <td>NoRidge</td>\n",
       "      <td>Norm</td>\n",
       "      <td>Norm</td>\n",
       "      <td>1Fam</td>\n",
       "      <td>2Story</td>\n",
       "      <td>8</td>\n",
       "      <td>5</td>\n",
       "      <td>2000</td>\n",
       "      <td>2000</td>\n",
       "      <td>Gable</td>\n",
       "      <td>CompShg</td>\n",
       "      <td>VinylSd</td>\n",
       "      <td>VinylSd</td>\n",
       "      <td>BrkFace</td>\n",
       "      <td>350.0</td>\n",
       "      <td>Gd</td>\n",
       "      <td>TA</td>\n",
       "      <td>PConc</td>\n",
       "      <td>Gd</td>\n",
       "      <td>TA</td>\n",
       "      <td>Av</td>\n",
       "      <td>GLQ</td>\n",
       "      <td>655</td>\n",
       "      <td>Unf</td>\n",
       "      <td>0</td>\n",
       "      <td>490</td>\n",
       "      <td>1145</td>\n",
       "      <td>GasA</td>\n",
       "      <td>Ex</td>\n",
       "      <td>Y</td>\n",
       "      <td>SBrkr</td>\n",
       "      <td>1145</td>\n",
       "      <td>1053</td>\n",
       "      <td>0</td>\n",
       "      <td>2198</td>\n",
       "      <td>1</td>\n",
       "      <td>0</td>\n",
       "      <td>2</td>\n",
       "      <td>1</td>\n",
       "      <td>4</td>\n",
       "      <td>1</td>\n",
       "      <td>Gd</td>\n",
       "      <td>9</td>\n",
       "      <td>Typ</td>\n",
       "      <td>1</td>\n",
       "      <td>TA</td>\n",
       "      <td>Attchd</td>\n",
       "      <td>2000.0</td>\n",
       "      <td>RFn</td>\n",
       "      <td>3</td>\n",
       "      <td>836</td>\n",
       "      <td>TA</td>\n",
       "      <td>TA</td>\n",
       "      <td>Y</td>\n",
       "      <td>192</td>\n",
       "      <td>84</td>\n",
       "      <td>0</td>\n",
       "      <td>0</td>\n",
       "      <td>0</td>\n",
       "      <td>0</td>\n",
       "      <td>NaN</td>\n",
       "      <td>NaN</td>\n",
       "      <td>NaN</td>\n",
       "      <td>0</td>\n",
       "      <td>12</td>\n",
       "      <td>2008</td>\n",
       "      <td>WD</td>\n",
       "      <td>Normal</td>\n",
       "      <td>250000</td>\n",
       "    </tr>\n",
       "  </tbody>\n",
       "</table>\n",
       "</div>"
      ],
      "text/plain": [
       "   Id  MSSubClass MSZoning  LotFrontage  LotArea Street Alley LotShape  \\\n",
       "0   1          60       RL         65.0     8450   Pave   NaN      Reg   \n",
       "1   2          20       RL         80.0     9600   Pave   NaN      Reg   \n",
       "2   3          60       RL         68.0    11250   Pave   NaN      IR1   \n",
       "3   4          70       RL         60.0     9550   Pave   NaN      IR1   \n",
       "4   5          60       RL         84.0    14260   Pave   NaN      IR1   \n",
       "\n",
       "  LandContour Utilities LotConfig LandSlope Neighborhood Condition1  \\\n",
       "0         Lvl    AllPub    Inside       Gtl      CollgCr       Norm   \n",
       "1         Lvl    AllPub       FR2       Gtl      Veenker      Feedr   \n",
       "2         Lvl    AllPub    Inside       Gtl      CollgCr       Norm   \n",
       "3         Lvl    AllPub    Corner       Gtl      Crawfor       Norm   \n",
       "4         Lvl    AllPub       FR2       Gtl      NoRidge       Norm   \n",
       "\n",
       "  Condition2 BldgType HouseStyle  OverallQual  OverallCond  YearBuilt  \\\n",
       "0       Norm     1Fam     2Story            7            5       2003   \n",
       "1       Norm     1Fam     1Story            6            8       1976   \n",
       "2       Norm     1Fam     2Story            7            5       2001   \n",
       "3       Norm     1Fam     2Story            7            5       1915   \n",
       "4       Norm     1Fam     2Story            8            5       2000   \n",
       "\n",
       "   YearRemodAdd RoofStyle RoofMatl Exterior1st Exterior2nd MasVnrType  \\\n",
       "0          2003     Gable  CompShg     VinylSd     VinylSd    BrkFace   \n",
       "1          1976     Gable  CompShg     MetalSd     MetalSd       None   \n",
       "2          2002     Gable  CompShg     VinylSd     VinylSd    BrkFace   \n",
       "3          1970     Gable  CompShg     Wd Sdng     Wd Shng       None   \n",
       "4          2000     Gable  CompShg     VinylSd     VinylSd    BrkFace   \n",
       "\n",
       "   MasVnrArea ExterQual ExterCond Foundation BsmtQual BsmtCond BsmtExposure  \\\n",
       "0       196.0        Gd        TA      PConc       Gd       TA           No   \n",
       "1         0.0        TA        TA     CBlock       Gd       TA           Gd   \n",
       "2       162.0        Gd        TA      PConc       Gd       TA           Mn   \n",
       "3         0.0        TA        TA     BrkTil       TA       Gd           No   \n",
       "4       350.0        Gd        TA      PConc       Gd       TA           Av   \n",
       "\n",
       "  BsmtFinType1  BsmtFinSF1 BsmtFinType2  BsmtFinSF2  BsmtUnfSF  TotalBsmtSF  \\\n",
       "0          GLQ         706          Unf           0        150          856   \n",
       "1          ALQ         978          Unf           0        284         1262   \n",
       "2          GLQ         486          Unf           0        434          920   \n",
       "3          ALQ         216          Unf           0        540          756   \n",
       "4          GLQ         655          Unf           0        490         1145   \n",
       "\n",
       "  Heating HeatingQC CentralAir Electrical  1stFlrSF  2ndFlrSF  LowQualFinSF  \\\n",
       "0    GasA        Ex          Y      SBrkr       856       854             0   \n",
       "1    GasA        Ex          Y      SBrkr      1262         0             0   \n",
       "2    GasA        Ex          Y      SBrkr       920       866             0   \n",
       "3    GasA        Gd          Y      SBrkr       961       756             0   \n",
       "4    GasA        Ex          Y      SBrkr      1145      1053             0   \n",
       "\n",
       "   GrLivArea  BsmtFullBath  BsmtHalfBath  FullBath  HalfBath  BedroomAbvGr  \\\n",
       "0       1710             1             0         2         1             3   \n",
       "1       1262             0             1         2         0             3   \n",
       "2       1786             1             0         2         1             3   \n",
       "3       1717             1             0         1         0             3   \n",
       "4       2198             1             0         2         1             4   \n",
       "\n",
       "   KitchenAbvGr KitchenQual  TotRmsAbvGrd Functional  Fireplaces FireplaceQu  \\\n",
       "0             1          Gd             8        Typ           0         NaN   \n",
       "1             1          TA             6        Typ           1          TA   \n",
       "2             1          Gd             6        Typ           1          TA   \n",
       "3             1          Gd             7        Typ           1          Gd   \n",
       "4             1          Gd             9        Typ           1          TA   \n",
       "\n",
       "  GarageType  GarageYrBlt GarageFinish  GarageCars  GarageArea GarageQual  \\\n",
       "0     Attchd       2003.0          RFn           2         548         TA   \n",
       "1     Attchd       1976.0          RFn           2         460         TA   \n",
       "2     Attchd       2001.0          RFn           2         608         TA   \n",
       "3     Detchd       1998.0          Unf           3         642         TA   \n",
       "4     Attchd       2000.0          RFn           3         836         TA   \n",
       "\n",
       "  GarageCond PavedDrive  WoodDeckSF  OpenPorchSF  EnclosedPorch  3SsnPorch  \\\n",
       "0         TA          Y           0           61              0          0   \n",
       "1         TA          Y         298            0              0          0   \n",
       "2         TA          Y           0           42              0          0   \n",
       "3         TA          Y           0           35            272          0   \n",
       "4         TA          Y         192           84              0          0   \n",
       "\n",
       "   ScreenPorch  PoolArea PoolQC Fence MiscFeature  MiscVal  MoSold  YrSold  \\\n",
       "0            0         0    NaN   NaN         NaN        0       2    2008   \n",
       "1            0         0    NaN   NaN         NaN        0       5    2007   \n",
       "2            0         0    NaN   NaN         NaN        0       9    2008   \n",
       "3            0         0    NaN   NaN         NaN        0       2    2006   \n",
       "4            0         0    NaN   NaN         NaN        0      12    2008   \n",
       "\n",
       "  SaleType SaleCondition  SalePrice  \n",
       "0       WD        Normal     208500  \n",
       "1       WD        Normal     181500  \n",
       "2       WD        Normal     223500  \n",
       "3       WD       Abnorml     140000  \n",
       "4       WD        Normal     250000  "
      ]
     },
     "execution_count": 4,
     "metadata": {},
     "output_type": "execute_result"
    }
   ],
   "source": [
    "df1 = df_train.copy()\n",
    "df1.head()"
   ]
  },
  {
   "cell_type": "markdown",
   "id": "c0632958",
   "metadata": {},
   "source": [
    "## 2.1.Data Dimensions"
   ]
  },
  {
   "cell_type": "code",
   "execution_count": 5,
   "id": "ca2370ad",
   "metadata": {
    "ExecuteTime": {
     "end_time": "2022-06-02T18:31:58.401830Z",
     "start_time": "2022-06-02T18:31:58.291830Z"
    }
   },
   "outputs": [
    {
     "name": "stdout",
     "output_type": "stream",
     "text": [
      "Numbers of rows: 1460\n",
      "Numbers of columns: 81\n"
     ]
    }
   ],
   "source": [
    "print('Numbers of rows: {}'.format(df1.shape[0]))\n",
    "print('Numbers of columns: {}'.format(df1.shape[1]))"
   ]
  },
  {
   "cell_type": "markdown",
   "id": "77267040",
   "metadata": {},
   "source": [
    "## 2.2.Data Types"
   ]
  },
  {
   "cell_type": "code",
   "execution_count": 6,
   "id": "5654c86a",
   "metadata": {
    "ExecuteTime": {
     "end_time": "2022-06-02T18:31:58.559922Z",
     "start_time": "2022-06-02T18:31:58.403830Z"
    }
   },
   "outputs": [
    {
     "name": "stdout",
     "output_type": "stream",
     "text": [
      "<class 'pandas.core.frame.DataFrame'>\n",
      "RangeIndex: 1460 entries, 0 to 1459\n",
      "Data columns (total 81 columns):\n",
      " #   Column         Non-Null Count  Dtype  \n",
      "---  ------         --------------  -----  \n",
      " 0   Id             1460 non-null   int64  \n",
      " 1   MSSubClass     1460 non-null   int64  \n",
      " 2   MSZoning       1460 non-null   object \n",
      " 3   LotFrontage    1201 non-null   float64\n",
      " 4   LotArea        1460 non-null   int64  \n",
      " 5   Street         1460 non-null   object \n",
      " 6   Alley          91 non-null     object \n",
      " 7   LotShape       1460 non-null   object \n",
      " 8   LandContour    1460 non-null   object \n",
      " 9   Utilities      1460 non-null   object \n",
      " 10  LotConfig      1460 non-null   object \n",
      " 11  LandSlope      1460 non-null   object \n",
      " 12  Neighborhood   1460 non-null   object \n",
      " 13  Condition1     1460 non-null   object \n",
      " 14  Condition2     1460 non-null   object \n",
      " 15  BldgType       1460 non-null   object \n",
      " 16  HouseStyle     1460 non-null   object \n",
      " 17  OverallQual    1460 non-null   int64  \n",
      " 18  OverallCond    1460 non-null   int64  \n",
      " 19  YearBuilt      1460 non-null   int64  \n",
      " 20  YearRemodAdd   1460 non-null   int64  \n",
      " 21  RoofStyle      1460 non-null   object \n",
      " 22  RoofMatl       1460 non-null   object \n",
      " 23  Exterior1st    1460 non-null   object \n",
      " 24  Exterior2nd    1460 non-null   object \n",
      " 25  MasVnrType     1452 non-null   object \n",
      " 26  MasVnrArea     1452 non-null   float64\n",
      " 27  ExterQual      1460 non-null   object \n",
      " 28  ExterCond      1460 non-null   object \n",
      " 29  Foundation     1460 non-null   object \n",
      " 30  BsmtQual       1423 non-null   object \n",
      " 31  BsmtCond       1423 non-null   object \n",
      " 32  BsmtExposure   1422 non-null   object \n",
      " 33  BsmtFinType1   1423 non-null   object \n",
      " 34  BsmtFinSF1     1460 non-null   int64  \n",
      " 35  BsmtFinType2   1422 non-null   object \n",
      " 36  BsmtFinSF2     1460 non-null   int64  \n",
      " 37  BsmtUnfSF      1460 non-null   int64  \n",
      " 38  TotalBsmtSF    1460 non-null   int64  \n",
      " 39  Heating        1460 non-null   object \n",
      " 40  HeatingQC      1460 non-null   object \n",
      " 41  CentralAir     1460 non-null   object \n",
      " 42  Electrical     1459 non-null   object \n",
      " 43  1stFlrSF       1460 non-null   int64  \n",
      " 44  2ndFlrSF       1460 non-null   int64  \n",
      " 45  LowQualFinSF   1460 non-null   int64  \n",
      " 46  GrLivArea      1460 non-null   int64  \n",
      " 47  BsmtFullBath   1460 non-null   int64  \n",
      " 48  BsmtHalfBath   1460 non-null   int64  \n",
      " 49  FullBath       1460 non-null   int64  \n",
      " 50  HalfBath       1460 non-null   int64  \n",
      " 51  BedroomAbvGr   1460 non-null   int64  \n",
      " 52  KitchenAbvGr   1460 non-null   int64  \n",
      " 53  KitchenQual    1460 non-null   object \n",
      " 54  TotRmsAbvGrd   1460 non-null   int64  \n",
      " 55  Functional     1460 non-null   object \n",
      " 56  Fireplaces     1460 non-null   int64  \n",
      " 57  FireplaceQu    770 non-null    object \n",
      " 58  GarageType     1379 non-null   object \n",
      " 59  GarageYrBlt    1379 non-null   float64\n",
      " 60  GarageFinish   1379 non-null   object \n",
      " 61  GarageCars     1460 non-null   int64  \n",
      " 62  GarageArea     1460 non-null   int64  \n",
      " 63  GarageQual     1379 non-null   object \n",
      " 64  GarageCond     1379 non-null   object \n",
      " 65  PavedDrive     1460 non-null   object \n",
      " 66  WoodDeckSF     1460 non-null   int64  \n",
      " 67  OpenPorchSF    1460 non-null   int64  \n",
      " 68  EnclosedPorch  1460 non-null   int64  \n",
      " 69  3SsnPorch      1460 non-null   int64  \n",
      " 70  ScreenPorch    1460 non-null   int64  \n",
      " 71  PoolArea       1460 non-null   int64  \n",
      " 72  PoolQC         7 non-null      object \n",
      " 73  Fence          281 non-null    object \n",
      " 74  MiscFeature    54 non-null     object \n",
      " 75  MiscVal        1460 non-null   int64  \n",
      " 76  MoSold         1460 non-null   int64  \n",
      " 77  YrSold         1460 non-null   int64  \n",
      " 78  SaleType       1460 non-null   object \n",
      " 79  SaleCondition  1460 non-null   object \n",
      " 80  SalePrice      1460 non-null   int64  \n",
      "dtypes: float64(3), int64(35), object(43)\n",
      "memory usage: 924.0+ KB\n"
     ]
    }
   ],
   "source": [
    "df1.info()"
   ]
  },
  {
   "cell_type": "markdown",
   "id": "568d8946",
   "metadata": {
    "heading_collapsed": true
   },
   "source": [
    "## 2.3.Change Data Type"
   ]
  },
  {
   "cell_type": "code",
   "execution_count": 7,
   "id": "b658674d",
   "metadata": {
    "ExecuteTime": {
     "end_time": "2022-06-02T18:31:58.684504Z",
     "start_time": "2022-06-02T18:31:58.561922Z"
    },
    "hidden": true
   },
   "outputs": [],
   "source": [
    "#None to change"
   ]
  },
  {
   "cell_type": "markdown",
   "id": "66a7c924",
   "metadata": {
    "heading_collapsed": true
   },
   "source": [
    "## 2.4.NA Check"
   ]
  },
  {
   "cell_type": "markdown",
   "id": "c55b98d1",
   "metadata": {
    "hidden": true
   },
   "source": [
    "**Colunas que serão deletadas:**\n",
    "Colunas com 80 % ou mais de valores nulos serão deletadas, pelo motivo de estarem praticamente totalmente vazias e caso eu preencha elas com qualquer valor vou estar mudando o fenomeno que estou tentando prever."
   ]
  },
  {
   "cell_type": "code",
   "execution_count": 8,
   "id": "1512e312",
   "metadata": {
    "ExecuteTime": {
     "end_time": "2022-06-02T18:31:58.810210Z",
     "start_time": "2022-06-02T18:31:58.687499Z"
    },
    "hidden": true,
    "scrolled": false
   },
   "outputs": [
    {
     "data": {
      "text/html": [
       "<div>\n",
       "<style scoped>\n",
       "    .dataframe tbody tr th:only-of-type {\n",
       "        vertical-align: middle;\n",
       "    }\n",
       "\n",
       "    .dataframe tbody tr th {\n",
       "        vertical-align: top;\n",
       "    }\n",
       "\n",
       "    .dataframe thead th {\n",
       "        text-align: right;\n",
       "    }\n",
       "</style>\n",
       "<table border=\"1\" class=\"dataframe\">\n",
       "  <thead>\n",
       "    <tr style=\"text-align: right;\">\n",
       "      <th></th>\n",
       "      <th>Attributes</th>\n",
       "      <th>NAN_Values</th>\n",
       "      <th>% NA_Values</th>\n",
       "    </tr>\n",
       "  </thead>\n",
       "  <tbody>\n",
       "    <tr>\n",
       "      <th>0</th>\n",
       "      <td>PoolQC</td>\n",
       "      <td>1453</td>\n",
       "      <td>1.00</td>\n",
       "    </tr>\n",
       "    <tr>\n",
       "      <th>1</th>\n",
       "      <td>MiscFeature</td>\n",
       "      <td>1406</td>\n",
       "      <td>0.96</td>\n",
       "    </tr>\n",
       "    <tr>\n",
       "      <th>2</th>\n",
       "      <td>Alley</td>\n",
       "      <td>1369</td>\n",
       "      <td>0.94</td>\n",
       "    </tr>\n",
       "    <tr>\n",
       "      <th>3</th>\n",
       "      <td>Fence</td>\n",
       "      <td>1179</td>\n",
       "      <td>0.81</td>\n",
       "    </tr>\n",
       "    <tr>\n",
       "      <th>4</th>\n",
       "      <td>FireplaceQu</td>\n",
       "      <td>690</td>\n",
       "      <td>0.47</td>\n",
       "    </tr>\n",
       "    <tr>\n",
       "      <th>5</th>\n",
       "      <td>LotFrontage</td>\n",
       "      <td>259</td>\n",
       "      <td>0.18</td>\n",
       "    </tr>\n",
       "    <tr>\n",
       "      <th>6</th>\n",
       "      <td>GarageType</td>\n",
       "      <td>81</td>\n",
       "      <td>0.06</td>\n",
       "    </tr>\n",
       "    <tr>\n",
       "      <th>7</th>\n",
       "      <td>GarageYrBlt</td>\n",
       "      <td>81</td>\n",
       "      <td>0.06</td>\n",
       "    </tr>\n",
       "    <tr>\n",
       "      <th>8</th>\n",
       "      <td>GarageFinish</td>\n",
       "      <td>81</td>\n",
       "      <td>0.06</td>\n",
       "    </tr>\n",
       "    <tr>\n",
       "      <th>9</th>\n",
       "      <td>GarageQual</td>\n",
       "      <td>81</td>\n",
       "      <td>0.06</td>\n",
       "    </tr>\n",
       "    <tr>\n",
       "      <th>10</th>\n",
       "      <td>GarageCond</td>\n",
       "      <td>81</td>\n",
       "      <td>0.06</td>\n",
       "    </tr>\n",
       "    <tr>\n",
       "      <th>11</th>\n",
       "      <td>BsmtExposure</td>\n",
       "      <td>38</td>\n",
       "      <td>0.03</td>\n",
       "    </tr>\n",
       "    <tr>\n",
       "      <th>12</th>\n",
       "      <td>BsmtFinType2</td>\n",
       "      <td>38</td>\n",
       "      <td>0.03</td>\n",
       "    </tr>\n",
       "    <tr>\n",
       "      <th>13</th>\n",
       "      <td>BsmtFinType1</td>\n",
       "      <td>37</td>\n",
       "      <td>0.03</td>\n",
       "    </tr>\n",
       "    <tr>\n",
       "      <th>14</th>\n",
       "      <td>BsmtCond</td>\n",
       "      <td>37</td>\n",
       "      <td>0.03</td>\n",
       "    </tr>\n",
       "    <tr>\n",
       "      <th>15</th>\n",
       "      <td>BsmtQual</td>\n",
       "      <td>37</td>\n",
       "      <td>0.03</td>\n",
       "    </tr>\n",
       "    <tr>\n",
       "      <th>16</th>\n",
       "      <td>MasVnrArea</td>\n",
       "      <td>8</td>\n",
       "      <td>0.01</td>\n",
       "    </tr>\n",
       "    <tr>\n",
       "      <th>17</th>\n",
       "      <td>MasVnrType</td>\n",
       "      <td>8</td>\n",
       "      <td>0.01</td>\n",
       "    </tr>\n",
       "    <tr>\n",
       "      <th>18</th>\n",
       "      <td>Electrical</td>\n",
       "      <td>1</td>\n",
       "      <td>0.00</td>\n",
       "    </tr>\n",
       "  </tbody>\n",
       "</table>\n",
       "</div>"
      ],
      "text/plain": [
       "      Attributes  NAN_Values  % NA_Values\n",
       "0         PoolQC        1453         1.00\n",
       "1    MiscFeature        1406         0.96\n",
       "2          Alley        1369         0.94\n",
       "3          Fence        1179         0.81\n",
       "4    FireplaceQu         690         0.47\n",
       "5    LotFrontage         259         0.18\n",
       "6     GarageType          81         0.06\n",
       "7    GarageYrBlt          81         0.06\n",
       "8   GarageFinish          81         0.06\n",
       "9     GarageQual          81         0.06\n",
       "10    GarageCond          81         0.06\n",
       "11  BsmtExposure          38         0.03\n",
       "12  BsmtFinType2          38         0.03\n",
       "13  BsmtFinType1          37         0.03\n",
       "14      BsmtCond          37         0.03\n",
       "15      BsmtQual          37         0.03\n",
       "16    MasVnrArea           8         0.01\n",
       "17    MasVnrType           8         0.01\n",
       "18    Electrical           1         0.00"
      ]
     },
     "execution_count": 8,
     "metadata": {},
     "output_type": "execute_result"
    }
   ],
   "source": [
    "aux = df1.isna().sum().reset_index().rename(columns={0:'NAN_Values','index':'Attributes'})\n",
    "aux = aux[aux['NAN_Values'] > 0].sort_values(by='NAN_Values',ascending=False).reset_index(drop=True)\n",
    "aux['% NA_Values'] = round(aux['NAN_Values'] / len(df1),2)\n",
    "aux"
   ]
  },
  {
   "cell_type": "markdown",
   "id": "321ae96f",
   "metadata": {},
   "source": [
    "## 2.5.Substition Values NA"
   ]
  },
  {
   "cell_type": "markdown",
   "id": "b39cbae6",
   "metadata": {},
   "source": [
    "**Preenchimento de valores nulos:**\n",
    "Vou escolher prencher os valores de LotFrontage e MasVnrArea com a médiana dos valores, pois depois de analisar a distribuição dessas variáveis percebi que havia uma concentração muito forte de valores entre 50 - 100 no caso da LotFrontage e na MasVnrArea o valor de zero é o que mais aparece, por isso vou escolher usar a Mediana, pois ele não sofre com valores outliers e é mais seguro em casos assim.\n",
    "\n",
    "Já no caso da GarageYrBlt como e uma variavel de ano, eu vou escolher preencher os valores pela moda, pois em váriaveis de ano assim, não vejo problema em colocar o valor mais frequente.\n",
    "\n",
    "\n",
    "**Removendo colunas e dropando valores NA das colunas categoricas:** Vou escolher remover a coluna categorica **FireplaceQu** pelo motivo de ser uma coluna categoria e possuir 690 valores categoricos faltantes, faço isso pois caso eu descida substituir o valor dessa coluna existe grande chances de eu inviezar o modelo, ou seja, fazer o modelo aprender aquilo que eu quero e não a realidade, por esse motivo vou escolher remover a coluna e as outras colunas colunas que são **Categoricas** vou escolher drop os valores."
   ]
  },
  {
   "cell_type": "code",
   "execution_count": 9,
   "id": "9745e2e9",
   "metadata": {
    "ExecuteTime": {
     "end_time": "2022-06-02T18:31:58.920306Z",
     "start_time": "2022-06-02T18:31:58.812213Z"
    }
   },
   "outputs": [],
   "source": [
    "cols_na = ['PoolQC','MiscFeature','Alley','Fence', #columns with NA values >= 80%\n",
    "             'FireplaceQu' ] #column with 690 values categorical NA"
   ]
  },
  {
   "cell_type": "code",
   "execution_count": 10,
   "id": "44bae023",
   "metadata": {
    "ExecuteTime": {
     "end_time": "2022-06-02T18:31:59.029454Z",
     "start_time": "2022-06-02T18:31:58.923305Z"
    },
    "scrolled": false
   },
   "outputs": [],
   "source": [
    "#Drop columns with NA values\n",
    "df1 = df1.drop(cols_na,axis=1)\n",
    "\n",
    "#filling other columns numeric with the median\n",
    "lot_median_value = df1['LotFrontage'].median()\n",
    "df1['LotFrontage'] = df1['LotFrontage'].fillna(lot_median_value)\n",
    "\n",
    "mas_vnr_area_median = df1['MasVnrArea'].median()\n",
    "df1['MasVnrArea'] = df1['MasVnrArea'].fillna(mas_vnr_area_median)\n",
    "\n",
    "garage_year_built_mode = df1['GarageYrBlt'].mode()[0]\n",
    "df1['GarageYrBlt'] = df1['GarageYrBlt'].fillna(garage_year_built_mode)\n",
    "\n",
    "#Drop NA values of categorical features\n",
    "df1 = df1.dropna()"
   ]
  },
  {
   "cell_type": "code",
   "execution_count": 11,
   "id": "97c997aa",
   "metadata": {
    "ExecuteTime": {
     "end_time": "2022-06-02T18:31:59.123502Z",
     "start_time": "2022-06-02T18:31:59.031469Z"
    }
   },
   "outputs": [
    {
     "data": {
      "text/plain": [
       "(1338, 76)"
      ]
     },
     "execution_count": 11,
     "metadata": {},
     "output_type": "execute_result"
    }
   ],
   "source": [
    "#rows and columns\n",
    "df1.shape"
   ]
  },
  {
   "cell_type": "markdown",
   "id": "d4e64fe1",
   "metadata": {},
   "source": [
    "# 3.0.Data Filtering"
   ]
  },
  {
   "cell_type": "code",
   "execution_count": 12,
   "id": "10d42060",
   "metadata": {
    "ExecuteTime": {
     "end_time": "2022-06-02T18:31:59.266026Z",
     "start_time": "2022-06-02T18:31:59.126502Z"
    }
   },
   "outputs": [],
   "source": [
    "df2 = df1.copy()"
   ]
  },
  {
   "cell_type": "markdown",
   "id": "85d2d4ac",
   "metadata": {},
   "source": [
    "## 3.1.Filter Rows"
   ]
  },
  {
   "cell_type": "code",
   "execution_count": null,
   "id": "3b2366a1",
   "metadata": {},
   "outputs": [],
   "source": []
  },
  {
   "cell_type": "markdown",
   "id": "eb137f1b",
   "metadata": {},
   "source": [
    "## 3.2.Filter Columns"
   ]
  },
  {
   "cell_type": "code",
   "execution_count": 13,
   "id": "efb4d669",
   "metadata": {
    "ExecuteTime": {
     "end_time": "2022-06-02T18:31:59.376278Z",
     "start_time": "2022-06-02T18:31:59.271020Z"
    }
   },
   "outputs": [],
   "source": [
    "#Drop columns with NA values\n",
    "cols = ['MoSold','YrSold','SaleType','SaleCondition'] # Columns of business\n",
    "df2 = df2.drop(cols,axis=1)"
   ]
  },
  {
   "cell_type": "markdown",
   "id": "6181acf4",
   "metadata": {},
   "source": [
    "# 4.0.Data Preparation"
   ]
  },
  {
   "cell_type": "code",
   "execution_count": 14,
   "id": "ede066a6",
   "metadata": {
    "ExecuteTime": {
     "end_time": "2022-06-02T18:31:59.484936Z",
     "start_time": "2022-06-02T18:31:59.378115Z"
    }
   },
   "outputs": [],
   "source": [
    "df3 = df2.copy()"
   ]
  },
  {
   "cell_type": "code",
   "execution_count": 15,
   "id": "752ebfc6",
   "metadata": {
    "ExecuteTime": {
     "end_time": "2022-06-02T18:31:59.610143Z",
     "start_time": "2022-06-02T18:31:59.486919Z"
    }
   },
   "outputs": [],
   "source": [
    "#dummy variables\n",
    "df3_dummy = pd.get_dummies(df3.drop('SalePrice',axis=1))\n",
    "\n",
    "#join SalePrice with variables dummys\n",
    "df3 = pd.concat([df3['SalePrice'],df3_dummy],axis=1)"
   ]
  },
  {
   "cell_type": "code",
   "execution_count": 16,
   "id": "dd8144a6",
   "metadata": {
    "ExecuteTime": {
     "end_time": "2022-06-02T18:31:59.704082Z",
     "start_time": "2022-06-02T18:31:59.614138Z"
    }
   },
   "outputs": [
    {
     "data": {
      "text/plain": [
       "(1338, 250)"
      ]
     },
     "execution_count": 16,
     "metadata": {},
     "output_type": "execute_result"
    }
   ],
   "source": [
    "#rows and columns\n",
    "df3.shape"
   ]
  },
  {
   "cell_type": "markdown",
   "id": "563fec53",
   "metadata": {},
   "source": [
    "# 5.0.Machine Learning Model"
   ]
  },
  {
   "cell_type": "code",
   "execution_count": 17,
   "id": "5698753f",
   "metadata": {
    "ExecuteTime": {
     "end_time": "2022-06-02T18:31:59.800065Z",
     "start_time": "2022-06-02T18:31:59.707082Z"
    }
   },
   "outputs": [],
   "source": [
    "df4 = df3.copy()"
   ]
  },
  {
   "cell_type": "code",
   "execution_count": 18,
   "id": "24b49af9",
   "metadata": {
    "ExecuteTime": {
     "end_time": "2022-06-02T18:31:59.909591Z",
     "start_time": "2022-06-02T18:31:59.802058Z"
    }
   },
   "outputs": [],
   "source": [
    "X = df4.drop('SalePrice',axis=1)\n",
    "y = df4['SalePrice']\n",
    "X_train,X_test,y_train,y_test = train_test_split(X,y,test_size=0.3,random_state=32)"
   ]
  },
  {
   "cell_type": "code",
   "execution_count": 19,
   "id": "413dadef",
   "metadata": {
    "ExecuteTime": {
     "end_time": "2022-06-02T18:32:00.020208Z",
     "start_time": "2022-06-02T18:31:59.912588Z"
    }
   },
   "outputs": [
    {
     "data": {
      "text/plain": [
       "((936, 249), (402, 249), (936,), (402,))"
      ]
     },
     "execution_count": 19,
     "metadata": {},
     "output_type": "execute_result"
    }
   ],
   "source": [
    "X_train.shape,X_test.shape, y_train.shape, y_test.shape"
   ]
  },
  {
   "cell_type": "markdown",
   "id": "3d3fae18",
   "metadata": {},
   "source": [
    "## BaseLine - Linear Model"
   ]
  },
  {
   "cell_type": "code",
   "execution_count": 38,
   "id": "89e08c7f",
   "metadata": {
    "ExecuteTime": {
     "end_time": "2022-06-02T18:45:21.157488Z",
     "start_time": "2022-06-02T18:45:21.057685Z"
    }
   },
   "outputs": [],
   "source": [
    "ln = LinearRegression()\n",
    "ln.fit(X_train,y_train)\n",
    "previsao_bn = ln.predict(X_test)"
   ]
  },
  {
   "cell_type": "markdown",
   "id": "1eee9f20",
   "metadata": {},
   "source": [
    "## Random Forest"
   ]
  },
  {
   "cell_type": "code",
   "execution_count": 21,
   "id": "a4898289",
   "metadata": {
    "ExecuteTime": {
     "end_time": "2022-06-02T18:32:02.151410Z",
     "start_time": "2022-06-02T18:32:00.274397Z"
    }
   },
   "outputs": [],
   "source": [
    "rf = RandomForestRegressor()\n",
    "rf.fit(X_train,y_train)\n",
    "previsao_rf = rf.predict(X_test)"
   ]
  },
  {
   "cell_type": "markdown",
   "id": "2257ebba",
   "metadata": {},
   "source": [
    "## Random Forest - Cross Validation"
   ]
  },
  {
   "cell_type": "code",
   "execution_count": 53,
   "id": "aff1d960",
   "metadata": {
    "ExecuteTime": {
     "end_time": "2022-06-02T18:56:33.368999Z",
     "start_time": "2022-06-02T18:56:25.925946Z"
    }
   },
   "outputs": [],
   "source": [
    "rf_cross = RandomForestRegressor()\n",
    "rf_result_cross = cross_validation('Random Forest',rf_cross,5,X_train,y_train)"
   ]
  },
  {
   "cell_type": "markdown",
   "id": "c59bd5b3",
   "metadata": {
    "heading_collapsed": true
   },
   "source": [
    "## Baseline - Liner Model - Cross Validation"
   ]
  },
  {
   "cell_type": "code",
   "execution_count": 52,
   "id": "c220d9bb",
   "metadata": {
    "ExecuteTime": {
     "end_time": "2022-06-02T18:52:10.293789Z",
     "start_time": "2022-06-02T18:52:09.883775Z"
    },
    "hidden": true
   },
   "outputs": [],
   "source": [
    "ln_cross = LinearRegression()\n",
    "ln_result_cross = cross_validation('Linear Model',ln_cross,5,X_train,y_train)"
   ]
  },
  {
   "cell_type": "markdown",
   "id": "373d1b24",
   "metadata": {},
   "source": [
    "# 6.0. Perfomance"
   ]
  },
  {
   "cell_type": "markdown",
   "id": "f5a27832",
   "metadata": {},
   "source": [
    "## 6.1.Simple perfomance"
   ]
  },
  {
   "cell_type": "code",
   "execution_count": 57,
   "id": "cd97193b",
   "metadata": {
    "ExecuteTime": {
     "end_time": "2022-06-02T18:58:45.623952Z",
     "start_time": "2022-06-02T18:58:45.610952Z"
    }
   },
   "outputs": [],
   "source": [
    "baseline_result = avaliar_modelo('BaseLine - Linear Model',y_test,previsao_bn)"
   ]
  },
  {
   "cell_type": "code",
   "execution_count": 58,
   "id": "07735d08",
   "metadata": {
    "ExecuteTime": {
     "end_time": "2022-06-02T18:58:48.559787Z",
     "start_time": "2022-06-02T18:58:48.545780Z"
    }
   },
   "outputs": [],
   "source": [
    "rf_result = avaliar_modelo('Random Forest Regression',y_test,previsao_rf)"
   ]
  },
  {
   "cell_type": "code",
   "execution_count": 60,
   "id": "2bc2eb2b",
   "metadata": {
    "ExecuteTime": {
     "end_time": "2022-06-02T18:59:28.526627Z",
     "start_time": "2022-06-02T18:59:28.514625Z"
    }
   },
   "outputs": [
    {
     "data": {
      "text/html": [
       "<div>\n",
       "<style scoped>\n",
       "    .dataframe tbody tr th:only-of-type {\n",
       "        vertical-align: middle;\n",
       "    }\n",
       "\n",
       "    .dataframe tbody tr th {\n",
       "        vertical-align: top;\n",
       "    }\n",
       "\n",
       "    .dataframe thead th {\n",
       "        text-align: right;\n",
       "    }\n",
       "</style>\n",
       "<table border=\"1\" class=\"dataframe\">\n",
       "  <thead>\n",
       "    <tr style=\"text-align: right;\">\n",
       "      <th></th>\n",
       "      <th>Model name</th>\n",
       "      <th>MAE</th>\n",
       "      <th>MAPE</th>\n",
       "      <th>RMSE</th>\n",
       "      <th>R²</th>\n",
       "    </tr>\n",
       "  </thead>\n",
       "  <tbody>\n",
       "    <tr>\n",
       "      <th>0</th>\n",
       "      <td>Random Forest Regression</td>\n",
       "      <td>17599.56</td>\n",
       "      <td>10.02%</td>\n",
       "      <td>26366.07</td>\n",
       "      <td>88.11%</td>\n",
       "    </tr>\n",
       "    <tr>\n",
       "      <th>0</th>\n",
       "      <td>BaseLine - Linear Model</td>\n",
       "      <td>17923.93</td>\n",
       "      <td>9.89%</td>\n",
       "      <td>28482.96</td>\n",
       "      <td>86.12%</td>\n",
       "    </tr>\n",
       "  </tbody>\n",
       "</table>\n",
       "</div>"
      ],
      "text/plain": [
       "                 Model name       MAE    MAPE      RMSE      R²\n",
       "0  Random Forest Regression  17599.56  10.02%  26366.07  88.11%\n",
       "0   BaseLine - Linear Model  17923.93   9.89%  28482.96  86.12%"
      ]
     },
     "execution_count": 60,
     "metadata": {},
     "output_type": "execute_result"
    }
   ],
   "source": [
    "modeling_result = pd.concat([baseline_result,rf_result])\n",
    "modeling_result.sort_values('RMSE')"
   ]
  },
  {
   "cell_type": "markdown",
   "id": "437c575d",
   "metadata": {},
   "source": [
    "## 6.2.Real Perfomance - Cross Validation"
   ]
  },
  {
   "cell_type": "code",
   "execution_count": 61,
   "id": "d05d7c47",
   "metadata": {
    "ExecuteTime": {
     "end_time": "2022-06-02T18:59:38.325579Z",
     "start_time": "2022-06-02T18:59:38.313577Z"
    }
   },
   "outputs": [
    {
     "data": {
      "text/html": [
       "<div>\n",
       "<style scoped>\n",
       "    .dataframe tbody tr th:only-of-type {\n",
       "        vertical-align: middle;\n",
       "    }\n",
       "\n",
       "    .dataframe tbody tr th {\n",
       "        vertical-align: top;\n",
       "    }\n",
       "\n",
       "    .dataframe thead th {\n",
       "        text-align: right;\n",
       "    }\n",
       "</style>\n",
       "<table border=\"1\" class=\"dataframe\">\n",
       "  <thead>\n",
       "    <tr style=\"text-align: right;\">\n",
       "      <th></th>\n",
       "      <th>Nome Modelo</th>\n",
       "      <th>MAE CV</th>\n",
       "      <th>MAPE CV</th>\n",
       "      <th>RMSE CV</th>\n",
       "      <th>R² CV</th>\n",
       "    </tr>\n",
       "  </thead>\n",
       "  <tbody>\n",
       "    <tr>\n",
       "      <th>0</th>\n",
       "      <td>Random Forest</td>\n",
       "      <td>18339.9 +/- 751.9</td>\n",
       "      <td>0.1 +/- 0.01</td>\n",
       "      <td>30856.79 +/- 5408.71</td>\n",
       "      <td>0.85 +/- 0.04</td>\n",
       "    </tr>\n",
       "    <tr>\n",
       "      <th>0</th>\n",
       "      <td>Linear Model</td>\n",
       "      <td>20564.83 +/- 1432.38</td>\n",
       "      <td>0.12 +/- 0.01</td>\n",
       "      <td>39882.16 +/- 11366.02</td>\n",
       "      <td>0.73 +/- 0.16</td>\n",
       "    </tr>\n",
       "  </tbody>\n",
       "</table>\n",
       "</div>"
      ],
      "text/plain": [
       "     Nome Modelo                MAE CV        MAPE CV                RMSE CV  \\\n",
       "0  Random Forest     18339.9 +/- 751.9   0.1 +/- 0.01   30856.79 +/- 5408.71   \n",
       "0   Linear Model  20564.83 +/- 1432.38  0.12 +/- 0.01  39882.16 +/- 11366.02   \n",
       "\n",
       "           R² CV  \n",
       "0  0.85 +/- 0.04  \n",
       "0  0.73 +/- 0.16  "
      ]
     },
     "execution_count": 61,
     "metadata": {},
     "output_type": "execute_result"
    }
   ],
   "source": [
    "modeling_result_real = pd.concat([ln_result_cross,rf_result_cross]) \n",
    "modeling_result_real.sort_values('RMSE CV')"
   ]
  },
  {
   "cell_type": "markdown",
   "id": "3f9ea18a",
   "metadata": {},
   "source": [
    "# Conclusion"
   ]
  },
  {
   "cell_type": "markdown",
   "id": "1d0c739f",
   "metadata": {},
   "source": [
    "**O que eu foi feito nessa etapa:**\n",
    "- Preenchendo e removendo valores nulos\n",
    "    - Dessa vez eu analisei os valores nulos e retirei ou preenchi por um motivo já especificado.\n",
    "- Criando e Aplicando a Cross validation\n",
    "    - Para termos um resultado mais real e que condiz com a realidade foi necessario criar e usar a cross nesse problema.\n",
    "    \n",
    "**O que ainda falta fazer?**\n",
    "- Relembrando nosso objetivo de prever o preço das casas e vendo que o modelo já está conseguindo ter exelentes resultados com o R² de 85%, eu já poderia escolher acabar o projeto por aqui mesmo, e ir para o deploy, porém ainda e necessario realizar alguns passos, que são:\n",
    "    - Feature Enginnering: Criar mais colunas para explicar melhor o fenomeno\n",
    "    - Feature Selection: Selecionar as colunas mais relevantes, pois ainda temos muuuiiitas colunas no nosso dataset e isso aumenta muito a dimensionalidade do problema e pensando em casos práticos, pode ser que a pessoa não tenha todas as 76 informações que o modelo pede na hora que ela for compra o imóvel, por causa disso ainda vamos ter que seleciona as colunas mais relevantes.\n",
    "    \n",
    " \n",
    "**Proximos passos:**\n",
    "- Feature Enginnering.\n",
    "- Análise exploratória dos dados."
   ]
  }
 ],
 "metadata": {
  "kernelspec": {
   "display_name": "Python 3 (ipykernel)",
   "language": "python",
   "name": "python3"
  },
  "language_info": {
   "codemirror_mode": {
    "name": "ipython",
    "version": 3
   },
   "file_extension": ".py",
   "mimetype": "text/x-python",
   "name": "python",
   "nbconvert_exporter": "python",
   "pygments_lexer": "ipython3",
   "version": "3.9.12"
  },
  "varInspector": {
   "cols": {
    "lenName": 16,
    "lenType": 16,
    "lenVar": 40
   },
   "kernels_config": {
    "python": {
     "delete_cmd_postfix": "",
     "delete_cmd_prefix": "del ",
     "library": "var_list.py",
     "varRefreshCmd": "print(var_dic_list())"
    },
    "r": {
     "delete_cmd_postfix": ") ",
     "delete_cmd_prefix": "rm(",
     "library": "var_list.r",
     "varRefreshCmd": "cat(var_dic_list()) "
    }
   },
   "types_to_exclude": [
    "module",
    "function",
    "builtin_function_or_method",
    "instance",
    "_Feature"
   ],
   "window_display": false
  }
 },
 "nbformat": 4,
 "nbformat_minor": 5
}
