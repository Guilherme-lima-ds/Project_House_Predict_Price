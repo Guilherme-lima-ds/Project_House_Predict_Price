{
 "cells": [
  {
   "cell_type": "markdown",
   "id": "623c7d4f",
   "metadata": {
    "heading_collapsed": true
   },
   "source": [
    "## 0.0. Entendendo o problema"
   ]
  },
  {
   "cell_type": "markdown",
   "id": "db31d0e1",
   "metadata": {
    "heading_collapsed": true,
    "hidden": true
   },
   "source": [
    "### 0.1.Entendo o problema no geral\n",
    "Métricas e possivel causa do airbnb está precisando de um projeto desse tipo"
   ]
  },
  {
   "cell_type": "markdown",
   "id": "25ed0531",
   "metadata": {
    "hidden": true
   },
   "source": [
    "Passo a passo para entendimento do problema de negócio, sempre visando ter o pensamento do seu objetivo para que não se perca durante o projeto, por isso e sempre bom ter um objetivo claro..."
   ]
  },
  {
   "cell_type": "markdown",
   "id": "82a65d5c",
   "metadata": {
    "hidden": true
   },
   "source": [
    "- Objetivo do problema: O que nos vamos resolver?\n",
    "    - O objetivo desse problema é fazer a previsão do primeiro destino que um novo úsuario do airbnb irá escolher, esse e o objetivo, no fim eu tenho que ter essa previsão.\n",
    "    "
   ]
  },
  {
   "cell_type": "markdown",
   "id": "2ff10ac7",
   "metadata": {
    "hidden": true
   },
   "source": [
    "- Por que fazer eu vou fazer esse projeto?\n",
    "    - Caso a se eu tivesse na empresa, esse por que já viria junto com o problema de negócio, esse por que nos diz o por que será que o pessoal quer uma previsão de qual ponto o novo usuario irá ir primeiro? para que serve isso? como vai ser usado? como isso impacta a empresa? todas essas perguntas seriam respondidas pelo stackholder do projeto, porém como e um projeto nosso sou eu que deve dizer o por que, claro que na vida real esse problema já viria"
   ]
  },
  {
   "cell_type": "markdown",
   "id": "79a395c0",
   "metadata": {
    "hidden": true
   },
   "source": [
    "- Respondendo as perguntas de contexto de projeto:\n",
    "- Qual o tipo de modelo de negócio que a empresa usa para ganhar dinheiro?\n",
    "     - O airbnb em especifico aqui, que  de onde tiramos o probleam de negócio e onde queremos resolver o problema, eles usam o modelo de negocio chamado Marketplace, mas o que é Marketpleace?\n",
    "     - Marketplace e o tipo de negócio que conecta pessoas que possuem um produto, nesse caso, uma acomodação com uma pessoa que precisa de algo, que nesse caso é um lugar para ficar, exemplos de negócios de marketpleace ifood, uber, 99, getninjas, são empresas que ligam a pessoa que possuem o produto com a pessoa que precisa ou quer aquele produto."
   ]
  },
  {
   "cell_type": "markdown",
   "id": "0e977cdb",
   "metadata": {
    "hidden": true
   },
   "source": [
    "- Métricas do Marketpleace.\n",
    "    - Oferta( Pessoas que oferecem suas acomodações)\n",
    "         - Métricas da oferta:  \n",
    "           - Tamanho do portífolio (quantidade de acomodações por estado, por pais, por cidade, etc.. e a quantidade de oferta que eu possuo.)\n",
    "           - Diversidade de portífolio/Densidade de portifólio(Nos se a empresa atua em diversos paises? nesses paises eu atuou em todas as cidades, qual a densidade do meu negócio? estou mais concentrado em certos pontos?, sabendo disso podemos fazer uma contagem de pessoas que querem ir para italia mas não conseguem pois não temos portifolio, então ai que estamos perdendo grana, já seria um ponto para melhorar.\n",
    "           - Preço médio( Qual o preço que a pessoa está cobrando?, a pessoa está sendo justa no preço que ela está cobrando, estamos perdendo dinheiro por que a pessoa está cobrando muito acima do normal?, podemos fazer algo em relação a isso?, quem sabe uma campanha de como precificar o seu imóvel, onde damos algumas dicas para que a pessoa saiba o quanto cobrar, ou até mesmo fazer um projeto de DS para que a pessoa saiba o quanto cobrar pelo seu imóvel.)\n",
    "           \n",
    "    - Demanda(Pessoas procurando por acomodações)\n",
    "        - Métricas de demanda:\n",
    "            - Número de úsuarios(Quantas pessoas estão demandando cada região, existe alguma região que está tendo uma demanda acima do normal?, temos portófolio o suficiente para suprir essa demanda?, outro ponto muito importante também para se atentar.)\n",
    "            - LTV ( Lifetime value, que nos diz o quanto certo cliente era gasta comigo?, se ele tem o preço médio que ele paga por alocação de acomodamos de x e vai passar y anos com a gente, quanto de dinheiro nos vamos receber.\n",
    "\n",
    "            - CAC ( Cliente acquisition cost, que nos diz o quanto aquele cliente custou para usar o nosso serviço, todo cliente tem um custo, como por exemplos, ads no googlo, face, youtube, isso custa para empresa, camapnha de marketing, alocações, tudo tem um custo, por isos e importante saber o quanto gastamos para ter certo cliente e se vale a pena.)\n",
    "            \n",
    "- Tendo acesso a essas métricas, podemos saber qual projeto nos vamos fazer e qual o problema que estamos lidando, por exemplo, fazendo um projeto de quanto o cliente vai gasta comigo se ele passar x anos, já nos diz se ele vai se pagar ou não, isso e importante por as vezes pode ser muito caro ter um cliente que não vai trazer lucro para empresa, por exemplo ,vale mais a pena investir em dar desconto para algúem que e mais ativo e faz mais viagens do que para alguem que só vai uma vez ao ano, por que esse cliente que usa mais o serviço e o que tem mais chances de trazer lucro para empresa.\n",
    "\n",
    "    - Receita\n",
    "        - Receita tem 3 niveis de contribuição\n",
    "             - Primeiro nivel é: Preço médio * Número de cliente, só que o airbnb passa uma parte para a pessoa que está alocando o imóvel então na realidade não o preço médio e sim um FEE\n",
    "             - Segundo nivel é: fee * número de clientes, esse e o segundo nivel da receita desse modelo de negócio, so que ainda não é a aceita em si, pois ainda temos o custo por cliente\n",
    "             - Terceiro nível é: (fee*número de clientes) - CAC, exemplo Ele consegue fazer que um cliente faça um booking de 10 reias e um comondo, so que para trazer esse cliente ele gastou 50 reais, então temos -40 reais de lucro, ou seja, perdendo grana, ou seja, quanto mais aumenta a diferença fazendo o fee aumentar e o CAC abaixar, mais lucro a empresa vai ter. \n",
    "- E isso é genial, pois podemos fazer um projeto, visando aumentar cada um, tipo no CAC saber de onde vem os mais clientes, como fazer mais trafico organico, então eu posso ou aumentar ou o Fee(O quanto eu cobro para o alocador usar meu serviço de conexão com o cliente) ou o Número de cliente ou abaixa o CAC\n",
    "             \n",
    "- Geralmente os Marketpleace foca em aumentar o número de clientes e abaixar o CAC, para assim ter mais lucros, por exemplos trazer mais clientes pelo mesmo preço de CAC\n",
    "\n",
    "OBS: No livro learn analytics, ele diz quais são as principais métricas de ganho de dinheiro para cada tipo de negócio, então vale muito a pena ler.\n",
    "OBS: Ponto importante para se atentar e que para cada métrica é possivel se fazer um projeto diferente, ou seja, saber as métricas do negócio é essencial, pois são projetos que podemos fazer,  por exemplo para saber o LTV de um certo cliente, possivelmente vamos precisar fazer um projeto de Time Series."
   ]
  },
  {
   "cell_type": "markdown",
   "id": "272cb80a",
   "metadata": {
    "hidden": true
   },
   "source": [
    "- Tendo em mente essas métricas de negócio, eu posso me perguntar, como eu posso fazer a empresa ganhar dinheiro? e qual métrica esse meu projeto visa melhorar? qual a métrica foco que estamos lidando aqui?\n",
    "    - A métrica de foco aqui e a demanda, pois como estamos tentando prever onde o úsuario vai fazer o primeiro booking, nos diz automaticamente que estamos lidando com demanda, por exemplo, temos uma demanda muito grande no Brasil, mas como está nossa oferta lá, e vimos que está muito ruim, já podemos propor pro time de negócio melhorar mais naquele pais, ai eles vão lá e fazem campanha para aumentar a oferta, mas isso só é possivel pois eu entendi muito bem o problema de negócio e sei que é um problema de onde vamos ter mais demanda, caso caia em um pais que não temos muitas ofertas, a empresa vai melhorar.\n",
    "- No fim a empresa quer saber onde vai ter mais demanda, ou seja, onde os clientes vão fazer o primeiro booking, para saber se terão oferta o suficente para aquele cliente fazendo assim ele que ele ache o que está procurando e a empresa ganhe dinheiro em cima disso."
   ]
  },
  {
   "cell_type": "markdown",
   "id": "1e97146d",
   "metadata": {
    "hidden": true
   },
   "source": [
    "- Qual o real problema de negocio do airbnb?\n",
    "    - O real probleam deles, e que eles querem saber em qual pais/cidade terá mais demanda, para saber se a oferta será suficiente para suprir essa demanda ou eles vão precisar fazer mais campanhas para aumentar a oferta nesse localidade que o modelo irá aponta, então esse e o real problema de négocio, e o que eles acham que pode solucionar isso e saber onde o cliente vai fazer o primeito booking, ou seja, eles estáo passando a solução que eles acham que será a melhorar, e não o problema de negocio em sí, então descobrimos isso apenas sabendo quais as métricas de negocio que estamos lidando aqui."
   ]
  },
  {
   "cell_type": "markdown",
   "id": "efcbec12",
   "metadata": {
    "hidden": true
   },
   "source": [
    "- Possiveis aplicações\n",
    "    - Caso o modelo acerte qual pais a pessoa quer ir, podemos mostrar para ela o anúncio exato do lugar onde ela quer ir, fazendo assim ela converter em cliente e nos gerar renda, podemos até oferecer um desconto, isso e excelente e pode mudar muito as campanhas de markerting pois para um cliente que não está muito decidido ainda, podemos simplesmente não gasta tanto em ads, e mostrar apenas algo mais abrangente ou não mostrar nada.\n",
    "\n",
    "- Assim abaixando o CAC, pois eu sei para qual clientes eu gasto mais e com qual eu gasto menos e ainda aumento meu número de clientes, ai faço essa diferença e gero renda."
   ]
  },
  {
   "cell_type": "markdown",
   "id": "10bc66aa",
   "metadata": {
    "hidden": true
   },
   "source": [
    "### 0.2.Proposta de solução\n",
    "Qual a solução que vamos criar para resolver esse problema"
   ]
  },
  {
   "cell_type": "markdown",
   "id": "b265a905",
   "metadata": {
    "hidden": true
   },
   "source": [
    "Fazer um modelo que nos diz a previsão de qual será o primeiro booking que um novo usuário vai fazer"
   ]
  },
  {
   "cell_type": "markdown",
   "id": "4ef3a844",
   "metadata": {
    "hidden": true
   },
   "source": [
    "- Como vamos entregar isso?\n",
    "    - Possiveis saidas:\n",
    "        - 0.2.1.Fazer as predições e salva em uma tabela do banco de dados(Depois a gente se conecta com o Power bi ou Tableu e pronto, vamos ter a previsão lá).\n",
    "        - 0.2.2.Fazer uma API em que o úsuario vai nos passar como \n",
    "             - input : Usuario e suas caracteristicas\n",
    "             - output: Usuario e suas caractisticas com a **predição do destino**\n",
    "             \n",
    "             \n",
    "Nesse projeto vamos fazer uma API\n",
    "\n",
    "Possivelmente o projeto vai ter uns 16 ciclos para ficar pronto, ou seja, ;c"
   ]
  },
  {
   "cell_type": "markdown",
   "id": "dbbfc71d",
   "metadata": {
    "heading_collapsed": true
   },
   "source": [
    "## 1.0.Imports"
   ]
  },
  {
   "cell_type": "code",
   "execution_count": 28,
   "id": "a008978c",
   "metadata": {
    "ExecuteTime": {
     "end_time": "2022-05-18T14:40:20.466642Z",
     "start_time": "2022-05-18T14:40:17.430094Z"
    },
    "hidden": true,
    "scrolled": true
   },
   "outputs": [],
   "source": [
    "import pandas as pd\n",
    "import numpy as np\n",
    "from keras import models as ml\n",
    "from keras import layers as l\n",
    "from sklearn import preprocessing as pp\n",
    "from sklearn import metrics as m\n",
    "from scikitplot import metrics as mt\n",
    "from sklearn.model_selection import train_test_split"
   ]
  },
  {
   "cell_type": "markdown",
   "id": "1a5d2b07",
   "metadata": {
    "heading_collapsed": true,
    "hidden": true
   },
   "source": [
    "### 1.1.Help functions"
   ]
  },
  {
   "cell_type": "code",
   "execution_count": null,
   "id": "e6c65373",
   "metadata": {
    "hidden": true
   },
   "outputs": [],
   "source": []
  },
  {
   "cell_type": "markdown",
   "id": "0727f884",
   "metadata": {
    "heading_collapsed": true,
    "hidden": true
   },
   "source": [
    "### 1.2.Loading Data"
   ]
  },
  {
   "cell_type": "markdown",
   "id": "5caacc7a",
   "metadata": {
    "hidden": true
   },
   "source": [
    "#### Granulidade\n",
    "Descidir a granulidade e algo muito importante, pois Descidindo a granulidade da tabela, lembrando que é um conceito muito importante pois ela que descide como a analise vai ser feita\n",
    "inclusive foi assim que eu errei em uma pergunta da #, por não ter pensado na granulidade.\n",
    "Assim, podemos ver claramente que na tabela de sessions a granulidade e de uma combinação de **user_id + action**, já na tabela de df_raw a granulalidade e de ID, ou seja, eu tenho **Uma úsuario por linha**.\n",
    "#### Como descidir a Granulidade?\n",
    "Para descidir a granulidade eu tenho que me pergunta como eu quero fazer a previsão, caso eu queira fazer uma previsão por úsuario, eu vou ter que usar a **df_raw** agora caso eu queria fazer por úsuario é sessão ai eu vou ter que a **sessions**\n",
    "\n",
    "#### Exemplos:\n",
    "O úsuario entrou fez varios eventos e meu modelo faz uma previsão dele, essa e a alternativa de fazer a previsão pelos eventos(df_raw), agora eu posos também fazer o projeto de que o úsuario apenas entra na pagina e o modelo já faz a previsão, ou seja, iremos fazer uma previsão apenas de úsuario e sessão, ele entra click e a previsão já é feita.\n",
    "\n",
    "#### Abordagens possiveis\n",
    "abordagem possiveis é agrupar os dados de ação por úsuario, pegando a quantidade de ação que cada úsuario fez ou || or fazer o transposer que é transformar as linhas de action em variaveis dummy por exemplo."
   ]
  },
  {
   "cell_type": "code",
   "execution_count": 2,
   "id": "aa245375",
   "metadata": {
    "ExecuteTime": {
     "end_time": "2022-05-18T14:35:46.560668Z",
     "start_time": "2022-05-18T14:35:45.566776Z"
    },
    "hidden": true
   },
   "outputs": [
    {
     "data": {
      "text/plain": [
       "(213451, 16)"
      ]
     },
     "execution_count": 2,
     "metadata": {},
     "output_type": "execute_result"
    }
   ],
   "source": [
    "df_raw = pd.read_csv('datasets/train_users_2.csv')\n",
    "df_raw.shape"
   ]
  },
  {
   "cell_type": "code",
   "execution_count": 3,
   "id": "15cf5cfe",
   "metadata": {
    "ExecuteTime": {
     "end_time": "2022-05-18T14:35:46.575670Z",
     "start_time": "2022-05-18T14:35:46.562671Z"
    },
    "hidden": true
   },
   "outputs": [],
   "source": [
    "#df_sessions = pd.read_csv('datasets/sessions.csv', low_memory=True)\n",
    "#df_sessions.shape"
   ]
  },
  {
   "cell_type": "markdown",
   "id": "53d40a91",
   "metadata": {
    "heading_collapsed": true
   },
   "source": [
    "## 2.0.Data Description"
   ]
  },
  {
   "cell_type": "code",
   "execution_count": 4,
   "id": "8a97f20d",
   "metadata": {
    "ExecuteTime": {
     "end_time": "2022-05-18T14:35:46.702684Z",
     "start_time": "2022-05-18T14:35:46.578670Z"
    },
    "hidden": true
   },
   "outputs": [],
   "source": [
    "#copy data\n",
    "df1 = df_raw.copy()"
   ]
  },
  {
   "cell_type": "code",
   "execution_count": 5,
   "id": "7211dc88",
   "metadata": {
    "ExecuteTime": {
     "end_time": "2022-05-18T14:35:46.780915Z",
     "start_time": "2022-05-18T14:35:46.704670Z"
    },
    "hidden": true
   },
   "outputs": [
    {
     "name": "stdout",
     "output_type": "stream",
     "text": [
      "Number of rows: 213451\n",
      "Number of columns: 16\n"
     ]
    }
   ],
   "source": [
    "#columns and rows\n",
    "print('Number of rows: {}'.format(df1.shape[0]))\n",
    "print('Number of columns: {}'.format(df1.shape[1]))"
   ]
  },
  {
   "cell_type": "markdown",
   "id": "209438e4",
   "metadata": {
    "heading_collapsed": true,
    "hidden": true
   },
   "source": [
    "### 2.1.Data dtypes"
   ]
  },
  {
   "cell_type": "code",
   "execution_count": 6,
   "id": "01040e82",
   "metadata": {
    "ExecuteTime": {
     "end_time": "2022-05-18T14:35:46.889773Z",
     "start_time": "2022-05-18T14:35:46.782915Z"
    },
    "hidden": true
   },
   "outputs": [
    {
     "data": {
      "text/plain": [
       "id                          object\n",
       "date_account_created        object\n",
       "timestamp_first_active       int64\n",
       "date_first_booking          object\n",
       "gender                      object\n",
       "age                        float64\n",
       "signup_method               object\n",
       "signup_flow                  int64\n",
       "language                    object\n",
       "affiliate_channel           object\n",
       "affiliate_provider          object\n",
       "first_affiliate_tracked     object\n",
       "signup_app                  object\n",
       "first_device_type           object\n",
       "first_browser               object\n",
       "country_destination         object\n",
       "dtype: object"
      ]
     },
     "execution_count": 6,
     "metadata": {},
     "output_type": "execute_result"
    }
   ],
   "source": [
    "df1.dtypes"
   ]
  },
  {
   "cell_type": "markdown",
   "id": "702480e4",
   "metadata": {
    "heading_collapsed": true,
    "hidden": true
   },
   "source": [
    "### 2.2.NA Check"
   ]
  },
  {
   "cell_type": "code",
   "execution_count": 7,
   "id": "071c1f14",
   "metadata": {
    "ExecuteTime": {
     "end_time": "2022-05-18T14:35:47.399001Z",
     "start_time": "2022-05-18T14:35:46.891783Z"
    },
    "hidden": true
   },
   "outputs": [
    {
     "data": {
      "text/plain": [
       "id                              0\n",
       "date_account_created            0\n",
       "timestamp_first_active          0\n",
       "date_first_booking         124543\n",
       "gender                          0\n",
       "age                         87990\n",
       "signup_method                   0\n",
       "signup_flow                     0\n",
       "language                        0\n",
       "affiliate_channel               0\n",
       "affiliate_provider              0\n",
       "first_affiliate_tracked      6065\n",
       "signup_app                      0\n",
       "first_device_type               0\n",
       "first_browser                   0\n",
       "country_destination             0\n",
       "dtype: int64"
      ]
     },
     "execution_count": 7,
     "metadata": {},
     "output_type": "execute_result"
    }
   ],
   "source": [
    "df1.isnull().sum()"
   ]
  },
  {
   "cell_type": "code",
   "execution_count": 8,
   "id": "39077e64",
   "metadata": {
    "ExecuteTime": {
     "end_time": "2022-05-18T14:35:47.909009Z",
     "start_time": "2022-05-18T14:35:47.404006Z"
    },
    "hidden": true
   },
   "outputs": [],
   "source": [
    "#Drop Na, first cicle\n",
    "df1 = df1.dropna()"
   ]
  },
  {
   "cell_type": "markdown",
   "id": "db867667",
   "metadata": {
    "heading_collapsed": true,
    "hidden": true
   },
   "source": [
    "### 2.3.Change Data type"
   ]
  },
  {
   "cell_type": "code",
   "execution_count": 9,
   "id": "32c5e64b",
   "metadata": {
    "ExecuteTime": {
     "end_time": "2022-05-18T14:35:48.352105Z",
     "start_time": "2022-05-18T14:35:47.911003Z"
    },
    "hidden": true
   },
   "outputs": [],
   "source": [
    "#date_account_created, \n",
    "df1['date_account_created'] = pd.to_datetime(df1['date_account_created'])\n",
    "\n",
    "#date_first_booking,\n",
    "df1['date_first_booking'] = pd.to_datetime(df1['date_first_booking'])\n",
    "\n",
    "#timestamp_first_active, \n",
    "df1['timestamp_first_active'] = pd.to_datetime(df1['timestamp_first_active'],format='%Y%m%d%H%M%S')\n",
    "\n",
    "#age\n",
    "df1['age'] = df1['age'].astype(np.int64)"
   ]
  },
  {
   "cell_type": "code",
   "execution_count": 10,
   "id": "c7173457",
   "metadata": {
    "ExecuteTime": {
     "end_time": "2022-05-18T14:35:48.368093Z",
     "start_time": "2022-05-18T14:35:48.355093Z"
    },
    "hidden": true
   },
   "outputs": [
    {
     "data": {
      "text/plain": [
       "id                                 object\n",
       "date_account_created       datetime64[ns]\n",
       "timestamp_first_active     datetime64[ns]\n",
       "date_first_booking         datetime64[ns]\n",
       "gender                             object\n",
       "age                                 int64\n",
       "signup_method                      object\n",
       "signup_flow                         int64\n",
       "language                           object\n",
       "affiliate_channel                  object\n",
       "affiliate_provider                 object\n",
       "first_affiliate_tracked            object\n",
       "signup_app                         object\n",
       "first_device_type                  object\n",
       "first_browser                      object\n",
       "country_destination                object\n",
       "dtype: object"
      ]
     },
     "execution_count": 10,
     "metadata": {},
     "output_type": "execute_result"
    }
   ],
   "source": [
    "#check\n",
    "df1.dtypes"
   ]
  },
  {
   "cell_type": "markdown",
   "id": "becd3e86",
   "metadata": {
    "heading_collapsed": true,
    "hidden": true
   },
   "source": [
    "### 2.4.Check Balanced Data"
   ]
  },
  {
   "cell_type": "code",
   "execution_count": 11,
   "id": "1daf9416",
   "metadata": {
    "ExecuteTime": {
     "end_time": "2022-05-18T14:35:48.540902Z",
     "start_time": "2022-05-18T14:35:48.370091Z"
    },
    "hidden": true
   },
   "outputs": [
    {
     "data": {
      "text/plain": [
       "US       0.708864\n",
       "other    0.110854\n",
       "FR       0.054085\n",
       "IT       0.029763\n",
       "GB       0.025935\n",
       "ES       0.024864\n",
       "CA       0.015696\n",
       "DE       0.012454\n",
       "NL       0.008801\n",
       "AU       0.006366\n",
       "PT       0.002318\n",
       "Name: country_destination, dtype: float64"
      ]
     },
     "execution_count": 11,
     "metadata": {},
     "output_type": "execute_result"
    }
   ],
   "source": [
    "df1['country_destination'].value_counts(normalize=True)"
   ]
  },
  {
   "cell_type": "markdown",
   "id": "3be3d4c7",
   "metadata": {
    "heading_collapsed": true
   },
   "source": [
    "## 3.0.Data Filtering"
   ]
  },
  {
   "cell_type": "code",
   "execution_count": 12,
   "id": "9e34bc84",
   "metadata": {
    "ExecuteTime": {
     "end_time": "2022-05-18T14:35:48.682048Z",
     "start_time": "2022-05-18T14:35:48.542909Z"
    },
    "hidden": true
   },
   "outputs": [],
   "source": [
    "df2 = df1.copy()"
   ]
  },
  {
   "cell_type": "markdown",
   "id": "0a6292cf",
   "metadata": {
    "heading_collapsed": true,
    "hidden": true
   },
   "source": [
    "### 3.1.Filtering rows"
   ]
  },
  {
   "cell_type": "code",
   "execution_count": null,
   "id": "ddb0b71b",
   "metadata": {
    "hidden": true
   },
   "outputs": [],
   "source": []
  },
  {
   "cell_type": "markdown",
   "id": "ae8831f7",
   "metadata": {
    "heading_collapsed": true,
    "hidden": true
   },
   "source": [
    "### 3.2.Columns selections"
   ]
  },
  {
   "cell_type": "code",
   "execution_count": null,
   "id": "da0fecbb",
   "metadata": {
    "hidden": true
   },
   "outputs": [],
   "source": []
  },
  {
   "cell_type": "markdown",
   "id": "352646a5",
   "metadata": {
    "heading_collapsed": true
   },
   "source": [
    "## 4.0.Data Preparation"
   ]
  },
  {
   "cell_type": "code",
   "execution_count": 13,
   "id": "c1b1575a",
   "metadata": {
    "ExecuteTime": {
     "end_time": "2022-05-18T14:35:48.852484Z",
     "start_time": "2022-05-18T14:35:48.684828Z"
    },
    "hidden": true
   },
   "outputs": [],
   "source": [
    "df3 = df2.copy()"
   ]
  },
  {
   "cell_type": "code",
   "execution_count": 14,
   "id": "4a9d04c3",
   "metadata": {
    "ExecuteTime": {
     "end_time": "2022-05-18T14:35:49.089814Z",
     "start_time": "2022-05-18T14:35:48.856496Z"
    },
    "hidden": true
   },
   "outputs": [],
   "source": [
    "#dummy variable\n",
    "df3_dummy = pd.get_dummies(df3.drop(['id','country_destination'],axis=1))\n",
    "\n",
    "#join id and country_destination\n",
    "df3 = pd.concat([df3[['id','country_destination']], df3_dummy],axis=1)"
   ]
  },
  {
   "cell_type": "markdown",
   "id": "8ee13957",
   "metadata": {
    "heading_collapsed": true
   },
   "source": [
    "## 5.0.Feature Selection"
   ]
  },
  {
   "cell_type": "code",
   "execution_count": 15,
   "id": "d3f4d70a",
   "metadata": {
    "ExecuteTime": {
     "end_time": "2022-05-18T14:35:49.121804Z",
     "start_time": "2022-05-18T14:35:49.091805Z"
    },
    "hidden": true
   },
   "outputs": [],
   "source": [
    "df4 = df3.copy()"
   ]
  },
  {
   "cell_type": "code",
   "execution_count": 16,
   "id": "bda3f560",
   "metadata": {
    "ExecuteTime": {
     "end_time": "2022-05-18T14:35:49.231512Z",
     "start_time": "2022-05-18T14:35:49.124798Z"
    },
    "hidden": true
   },
   "outputs": [],
   "source": [
    "cols_drop = ['date_account_created','timestamp_first_active','date_first_booking'] #original dates\n",
    "df4 = df4.drop(cols_drop,axis=1)"
   ]
  },
  {
   "cell_type": "code",
   "execution_count": 17,
   "id": "00db5926",
   "metadata": {
    "ExecuteTime": {
     "end_time": "2022-05-18T14:35:49.356860Z",
     "start_time": "2022-05-18T14:35:49.233468Z"
    },
    "hidden": true
   },
   "outputs": [],
   "source": [
    "X = df4.drop('country_destination',axis=1)\n",
    "y = df4['country_destination'].copy()"
   ]
  },
  {
   "cell_type": "markdown",
   "id": "75c21bbb",
   "metadata": {
    "heading_collapsed": true
   },
   "source": [
    "## 6.0.Machine Learning - Neural Network MLP"
   ]
  },
  {
   "cell_type": "code",
   "execution_count": 33,
   "id": "7ff6ad48",
   "metadata": {
    "ExecuteTime": {
     "end_time": "2022-05-18T14:41:30.469380Z",
     "start_time": "2022-05-18T14:41:30.391371Z"
    },
    "hidden": true
   },
   "outputs": [],
   "source": [
    "#Split data into training and test\n",
    "X_train,X_test,y_train,y_test = train_test_split(X,y,test_size=0.2,random_state=32)"
   ]
  },
  {
   "cell_type": "code",
   "execution_count": 36,
   "id": "4348b097",
   "metadata": {
    "ExecuteTime": {
     "end_time": "2022-05-18T14:43:02.994445Z",
     "start_time": "2022-05-18T14:43:02.975447Z"
    },
    "hidden": true
   },
   "outputs": [],
   "source": [
    "x_train = X_train.drop('id',axis=1)\n",
    "x_test = X_test.drop('id',axis=1)"
   ]
  },
  {
   "cell_type": "code",
   "execution_count": 38,
   "id": "d0cbed4e",
   "metadata": {
    "ExecuteTime": {
     "end_time": "2022-05-18T14:43:11.157988Z",
     "start_time": "2022-05-18T14:43:11.149993Z"
    },
    "hidden": true
   },
   "outputs": [
    {
     "data": {
      "text/plain": [
       "((54536, 112), (13635, 112), (54536,), (13635,))"
      ]
     },
     "execution_count": 38,
     "metadata": {},
     "output_type": "execute_result"
    }
   ],
   "source": [
    "x_train.shape, x_test.shape, y_train.shape, y_test.shape"
   ]
  },
  {
   "cell_type": "code",
   "execution_count": 39,
   "id": "c4cfafc0",
   "metadata": {
    "ExecuteTime": {
     "end_time": "2022-05-18T14:43:11.471298Z",
     "start_time": "2022-05-18T14:43:11.448298Z"
    },
    "hidden": true
   },
   "outputs": [
    {
     "data": {
      "text/plain": [
       "array([[0., 0., 0., ..., 0., 1., 0.],\n",
       "       [0., 0., 0., ..., 0., 0., 0.],\n",
       "       [0., 0., 0., ..., 0., 0., 0.],\n",
       "       ...,\n",
       "       [0., 0., 0., ..., 0., 1., 0.],\n",
       "       [0., 0., 0., ..., 0., 0., 0.],\n",
       "       [0., 0., 0., ..., 0., 1., 0.]])"
      ]
     },
     "execution_count": 39,
     "metadata": {},
     "output_type": "execute_result"
    }
   ],
   "source": [
    "#modeling\n",
    "ohe = pp.OneHotEncoder()\n",
    "y_train_nn = ohe.fit_transform(y_train.values.reshape(-1,1)).toarray()\n",
    "y_train_nn"
   ]
  },
  {
   "cell_type": "code",
   "execution_count": 40,
   "id": "8df095fa",
   "metadata": {
    "ExecuteTime": {
     "end_time": "2022-05-18T14:47:04.756985Z",
     "start_time": "2022-05-18T14:43:12.614805Z"
    },
    "hidden": true
   },
   "outputs": [
    {
     "name": "stdout",
     "output_type": "stream",
     "text": [
      "Epoch 1/100\n",
      "1705/1705 [==============================] - 3s 1ms/step - loss: 1.3318 - accuracy: 0.7040\n",
      "Epoch 2/100\n",
      "1705/1705 [==============================] - 2s 1ms/step - loss: 1.2718 - accuracy: 0.7080\n",
      "Epoch 3/100\n",
      "1705/1705 [==============================] - 2s 1ms/step - loss: 1.2180 - accuracy: 0.7082\n",
      "Epoch 4/100\n",
      "1705/1705 [==============================] - 2s 1ms/step - loss: 1.1976 - accuracy: 0.7086\n",
      "Epoch 5/100\n",
      "1705/1705 [==============================] - 2s 1ms/step - loss: 1.1868 - accuracy: 0.7085\n",
      "Epoch 6/100\n",
      "1705/1705 [==============================] - 2s 1ms/step - loss: 1.1700 - accuracy: 0.7086\n",
      "Epoch 7/100\n",
      "1705/1705 [==============================] - 3s 1ms/step - loss: 1.1567 - accuracy: 0.7087\n",
      "Epoch 8/100\n",
      "1705/1705 [==============================] - 3s 2ms/step - loss: 1.1529 - accuracy: 0.7087\n",
      "Epoch 9/100\n",
      "1705/1705 [==============================] - 3s 2ms/step - loss: 1.1442 - accuracy: 0.7087\n",
      "Epoch 10/100\n",
      "1705/1705 [==============================] - 3s 2ms/step - loss: 1.1417 - accuracy: 0.7088\n",
      "Epoch 11/100\n",
      "1705/1705 [==============================] - 3s 2ms/step - loss: 1.1356 - accuracy: 0.7091\n",
      "Epoch 12/100\n",
      "1705/1705 [==============================] - 3s 2ms/step - loss: 1.1328 - accuracy: 0.7094\n",
      "Epoch 13/100\n",
      "1705/1705 [==============================] - 2s 1ms/step - loss: 1.1318 - accuracy: 0.7094\n",
      "Epoch 14/100\n",
      "1705/1705 [==============================] - 2s 1ms/step - loss: 1.1302 - accuracy: 0.7094\n",
      "Epoch 15/100\n",
      "1705/1705 [==============================] - 2s 1ms/step - loss: 1.1291 - accuracy: 0.7096\n",
      "Epoch 16/100\n",
      "1705/1705 [==============================] - 2s 1ms/step - loss: 1.1277 - accuracy: 0.7096\n",
      "Epoch 17/100\n",
      "1705/1705 [==============================] - 2s 1ms/step - loss: 1.1272 - accuracy: 0.7096\n",
      "Epoch 18/100\n",
      "1705/1705 [==============================] - 2s 1ms/step - loss: 1.1264 - accuracy: 0.7096\n",
      "Epoch 19/100\n",
      "1705/1705 [==============================] - 2s 1ms/step - loss: 1.1236 - accuracy: 0.7096\n",
      "Epoch 20/100\n",
      "1705/1705 [==============================] - 2s 1ms/step - loss: 1.1232 - accuracy: 0.7097\n",
      "Epoch 21/100\n",
      "1705/1705 [==============================] - 2s 1ms/step - loss: 1.1227 - accuracy: 0.7098\n",
      "Epoch 22/100\n",
      "1705/1705 [==============================] - 2s 1ms/step - loss: 1.1228 - accuracy: 0.7097\n",
      "Epoch 23/100\n",
      "1705/1705 [==============================] - 2s 1ms/step - loss: 1.1203 - accuracy: 0.7097\n",
      "Epoch 24/100\n",
      "1705/1705 [==============================] - 2s 1ms/step - loss: 1.1206 - accuracy: 0.7098\n",
      "Epoch 25/100\n",
      "1705/1705 [==============================] - 2s 1ms/step - loss: 1.1192 - accuracy: 0.7098\n",
      "Epoch 26/100\n",
      "1705/1705 [==============================] - 2s 1ms/step - loss: 1.1181 - accuracy: 0.7098\n",
      "Epoch 27/100\n",
      "1705/1705 [==============================] - 2s 1ms/step - loss: 1.1170 - accuracy: 0.7098\n",
      "Epoch 28/100\n",
      "1705/1705 [==============================] - 2s 1ms/step - loss: 1.1167 - accuracy: 0.7100\n",
      "Epoch 29/100\n",
      "1705/1705 [==============================] - 2s 1ms/step - loss: 1.1155 - accuracy: 0.7100\n",
      "Epoch 30/100\n",
      "1705/1705 [==============================] - 2s 1ms/step - loss: 1.1146 - accuracy: 0.7100\n",
      "Epoch 31/100\n",
      "1705/1705 [==============================] - 2s 1ms/step - loss: 1.1142 - accuracy: 0.7102\n",
      "Epoch 32/100\n",
      "1705/1705 [==============================] - 2s 1ms/step - loss: 1.1142 - accuracy: 0.7102\n",
      "Epoch 33/100\n",
      "1705/1705 [==============================] - 2s 1ms/step - loss: 1.1130 - accuracy: 0.7102\n",
      "Epoch 34/100\n",
      "1705/1705 [==============================] - 2s 1ms/step - loss: 1.1126 - accuracy: 0.7102\n",
      "Epoch 35/100\n",
      "1705/1705 [==============================] - 2s 1ms/step - loss: 1.1123 - accuracy: 0.7105\n",
      "Epoch 36/100\n",
      "1705/1705 [==============================] - 3s 2ms/step - loss: 1.1110 - accuracy: 0.7103\n",
      "Epoch 37/100\n",
      "1705/1705 [==============================] - 2s 1ms/step - loss: 1.1109 - accuracy: 0.7104\n",
      "Epoch 38/100\n",
      "1705/1705 [==============================] - 2s 1ms/step - loss: 1.1096 - accuracy: 0.7105\n",
      "Epoch 39/100\n",
      "1705/1705 [==============================] - 2s 1ms/step - loss: 1.1094 - accuracy: 0.7106\n",
      "Epoch 40/100\n",
      "1705/1705 [==============================] - 2s 1ms/step - loss: 1.1090 - accuracy: 0.7106\n",
      "Epoch 41/100\n",
      "1705/1705 [==============================] - 2s 1ms/step - loss: 1.1086 - accuracy: 0.7107\n",
      "Epoch 42/100\n",
      "1705/1705 [==============================] - 2s 1ms/step - loss: 1.1085 - accuracy: 0.7107\n",
      "Epoch 43/100\n",
      "1705/1705 [==============================] - 2s 1ms/step - loss: 1.1075 - accuracy: 0.7107\n",
      "Epoch 44/100\n",
      "1705/1705 [==============================] - 2s 1ms/step - loss: 1.1071 - accuracy: 0.7112\n",
      "Epoch 45/100\n",
      "1705/1705 [==============================] - 2s 1ms/step - loss: 1.1064 - accuracy: 0.7107\n",
      "Epoch 46/100\n",
      "1705/1705 [==============================] - 2s 1ms/step - loss: 1.1056 - accuracy: 0.7111\n",
      "Epoch 47/100\n",
      "1705/1705 [==============================] - 2s 1ms/step - loss: 1.1057 - accuracy: 0.7109\n",
      "Epoch 48/100\n",
      "1705/1705 [==============================] - 2s 1ms/step - loss: 1.1048 - accuracy: 0.7110\n",
      "Epoch 49/100\n",
      "1705/1705 [==============================] - 2s 1ms/step - loss: 1.1045 - accuracy: 0.7111\n",
      "Epoch 50/100\n",
      "1705/1705 [==============================] - 2s 1ms/step - loss: 1.1040 - accuracy: 0.7110\n",
      "Epoch 51/100\n",
      "1705/1705 [==============================] - 2s 1ms/step - loss: 1.1036 - accuracy: 0.7111\n",
      "Epoch 52/100\n",
      "1705/1705 [==============================] - 2s 1ms/step - loss: 1.1030 - accuracy: 0.7113\n",
      "Epoch 53/100\n",
      "1705/1705 [==============================] - 2s 1ms/step - loss: 1.1040 - accuracy: 0.7115\n",
      "Epoch 54/100\n",
      "1705/1705 [==============================] - 2s 1ms/step - loss: 1.1029 - accuracy: 0.7115\n",
      "Epoch 55/100\n",
      "1705/1705 [==============================] - 2s 1ms/step - loss: 1.1025 - accuracy: 0.7112\n",
      "Epoch 56/100\n",
      "1705/1705 [==============================] - 2s 1ms/step - loss: 1.1026 - accuracy: 0.7116\n",
      "Epoch 57/100\n",
      "1705/1705 [==============================] - 2s 1ms/step - loss: 1.1017 - accuracy: 0.7115\n",
      "Epoch 58/100\n",
      "1705/1705 [==============================] - 2s 1ms/step - loss: 1.1010 - accuracy: 0.7118\n",
      "Epoch 59/100\n",
      "1705/1705 [==============================] - 2s 1ms/step - loss: 1.1010 - accuracy: 0.7118\n",
      "Epoch 60/100\n",
      "1705/1705 [==============================] - 2s 1ms/step - loss: 1.1008 - accuracy: 0.7116\n",
      "Epoch 61/100\n",
      "1705/1705 [==============================] - 2s 1ms/step - loss: 1.1009 - accuracy: 0.7119\n",
      "Epoch 62/100\n",
      "1705/1705 [==============================] - 2s 1ms/step - loss: 1.0997 - accuracy: 0.7120\n",
      "Epoch 63/100\n",
      "1705/1705 [==============================] - 2s 1ms/step - loss: 1.0988 - accuracy: 0.7119\n",
      "Epoch 64/100\n",
      "1705/1705 [==============================] - 2s 1ms/step - loss: 1.0997 - accuracy: 0.7120\n",
      "Epoch 65/100\n",
      "1705/1705 [==============================] - 2s 1ms/step - loss: 1.0985 - accuracy: 0.7122\n",
      "Epoch 66/100\n",
      "1705/1705 [==============================] - 2s 1ms/step - loss: 1.0985 - accuracy: 0.7119\n",
      "Epoch 67/100\n",
      "1705/1705 [==============================] - 2s 1ms/step - loss: 1.0985 - accuracy: 0.7121\n",
      "Epoch 68/100\n",
      "1705/1705 [==============================] - 2s 1ms/step - loss: 1.0986 - accuracy: 0.7122\n",
      "Epoch 69/100\n",
      "1705/1705 [==============================] - 2s 1ms/step - loss: 1.0983 - accuracy: 0.7124\n",
      "Epoch 70/100\n",
      "1705/1705 [==============================] - 2s 1ms/step - loss: 1.0979 - accuracy: 0.7120\n",
      "Epoch 71/100\n",
      "1705/1705 [==============================] - 2s 1ms/step - loss: 1.0977 - accuracy: 0.7124\n",
      "Epoch 72/100\n",
      "1705/1705 [==============================] - 2s 1ms/step - loss: 1.0971 - accuracy: 0.7122\n",
      "Epoch 73/100\n",
      "1705/1705 [==============================] - 2s 1ms/step - loss: 1.0971 - accuracy: 0.7123\n",
      "Epoch 74/100\n",
      "1705/1705 [==============================] - 2s 1ms/step - loss: 1.0969 - accuracy: 0.7124\n",
      "Epoch 75/100\n",
      "1705/1705 [==============================] - 2s 1ms/step - loss: 1.0967 - accuracy: 0.7122\n",
      "Epoch 76/100\n",
      "1705/1705 [==============================] - 2s 1ms/step - loss: 1.0960 - accuracy: 0.7124\n",
      "Epoch 77/100\n",
      "1705/1705 [==============================] - 2s 1ms/step - loss: 1.0963 - accuracy: 0.7126\n",
      "Epoch 78/100\n",
      "1705/1705 [==============================] - 2s 1ms/step - loss: 1.0952 - accuracy: 0.7127\n",
      "Epoch 79/100\n"
     ]
    },
    {
     "name": "stdout",
     "output_type": "stream",
     "text": [
      "1705/1705 [==============================] - 2s 1ms/step - loss: 1.0951 - accuracy: 0.7124\n",
      "Epoch 80/100\n",
      "1705/1705 [==============================] - 2s 1ms/step - loss: 1.0955 - accuracy: 0.7126\n",
      "Epoch 81/100\n",
      "1705/1705 [==============================] - 2s 1ms/step - loss: 1.0949 - accuracy: 0.7124\n",
      "Epoch 82/100\n",
      "1705/1705 [==============================] - 2s 1ms/step - loss: 1.0945 - accuracy: 0.7130\n",
      "Epoch 83/100\n",
      "1705/1705 [==============================] - 2s 1ms/step - loss: 1.0946 - accuracy: 0.7127\n",
      "Epoch 84/100\n",
      "1705/1705 [==============================] - 2s 1ms/step - loss: 1.0941 - accuracy: 0.7127\n",
      "Epoch 85/100\n",
      "1705/1705 [==============================] - 2s 1ms/step - loss: 1.0938 - accuracy: 0.7127\n",
      "Epoch 86/100\n",
      "1705/1705 [==============================] - 2s 1ms/step - loss: 1.0938 - accuracy: 0.7129\n",
      "Epoch 87/100\n",
      "1705/1705 [==============================] - 2s 1ms/step - loss: 1.0935 - accuracy: 0.7130\n",
      "Epoch 88/100\n",
      "1705/1705 [==============================] - 2s 1ms/step - loss: 1.0931 - accuracy: 0.7126\n",
      "Epoch 89/100\n",
      "1705/1705 [==============================] - 2s 1ms/step - loss: 1.0932 - accuracy: 0.7129\n",
      "Epoch 90/100\n",
      "1705/1705 [==============================] - 2s 1ms/step - loss: 1.0930 - accuracy: 0.7131\n",
      "Epoch 91/100\n",
      "1705/1705 [==============================] - 2s 1ms/step - loss: 1.0926 - accuracy: 0.7132\n",
      "Epoch 92/100\n",
      "1705/1705 [==============================] - 2s 1ms/step - loss: 1.0925 - accuracy: 0.7133\n",
      "Epoch 93/100\n",
      "1705/1705 [==============================] - 2s 1ms/step - loss: 1.0919 - accuracy: 0.7135\n",
      "Epoch 94/100\n",
      "1705/1705 [==============================] - 2s 1ms/step - loss: 1.0921 - accuracy: 0.7131\n",
      "Epoch 95/100\n",
      "1705/1705 [==============================] - 2s 1ms/step - loss: 1.0923 - accuracy: 0.7131\n",
      "Epoch 96/100\n",
      "1705/1705 [==============================] - 2s 1ms/step - loss: 1.0916 - accuracy: 0.7132\n",
      "Epoch 97/100\n",
      "1705/1705 [==============================] - 2s 1ms/step - loss: 1.0912 - accuracy: 0.7131\n",
      "Epoch 98/100\n",
      "1705/1705 [==============================] - 2s 1ms/step - loss: 1.0908 - accuracy: 0.7134\n",
      "Epoch 99/100\n",
      "1705/1705 [==============================] - 2s 1ms/step - loss: 1.0909 - accuracy: 0.7135\n",
      "Epoch 100/100\n",
      "1705/1705 [==============================] - 2s 1ms/step - loss: 1.0908 - accuracy: 0.7133\n"
     ]
    },
    {
     "data": {
      "text/plain": [
       "<keras.callbacks.History at 0x1525c12efd0>"
      ]
     },
     "execution_count": 40,
     "metadata": {},
     "output_type": "execute_result"
    }
   ],
   "source": [
    "#Model definition\n",
    "model = ml.Sequential()\n",
    "model.add(l.Dense(128, input_dim=x_train.shape[1], activation='relu'))\n",
    "model.add(l.Dense(11,activation='softmax'))\n",
    "\n",
    "#Model compile\n",
    "model.compile(loss='categorical_crossentropy',optimizer='adam',metrics=['accuracy'])\n",
    "\n",
    "#train model\n",
    "model.fit(x_train,y_train_nn,epochs=100)"
   ]
  },
  {
   "cell_type": "markdown",
   "id": "1bf3205a",
   "metadata": {
    "heading_collapsed": true
   },
   "source": [
    "## 7.0.NN Perfomance"
   ]
  },
  {
   "cell_type": "code",
   "execution_count": 41,
   "id": "317e05f3",
   "metadata": {
    "ExecuteTime": {
     "end_time": "2022-05-18T14:47:05.514861Z",
     "start_time": "2022-05-18T14:47:04.760986Z"
    },
    "hidden": true
   },
   "outputs": [
    {
     "name": "stdout",
     "output_type": "stream",
     "text": [
      "427/427 [==============================] - 1s 1ms/step\n"
     ]
    }
   ],
   "source": [
    "#Prediction\n",
    "pred_nn = model.predict(x_test)\n",
    "\n",
    "#Invert prediction\n",
    "yhat_nn = ohe.inverse_transform(pred_nn)\n",
    "\n",
    "#prediction prepare\n",
    "y_test_nn = y_test.to_numpy()\n",
    "yhat_nn = yhat_nn.reshape(1,-1)[0]"
   ]
  },
  {
   "cell_type": "code",
   "execution_count": 46,
   "id": "d39234d4",
   "metadata": {
    "ExecuteTime": {
     "end_time": "2022-05-18T14:50:29.746656Z",
     "start_time": "2022-05-18T14:50:28.932657Z"
    },
    "hidden": true
   },
   "outputs": [
    {
     "data": {
      "image/png": "[encoded data removed]",
      "text/plain": [
       "<Figure size 864x864 with 2 Axes>"
      ]
     },
     "metadata": {
      "needs_background": "light"
     },
     "output_type": "display_data"
    }
   ],
   "source": [
    "#Accuracy\n",
    "acc_nn = m.accuracy_score(y_test_nn, yhat_nn)\n",
    "#print('Accuracy: {}'.format(acc_nn))\n",
    "\n",
    "#confusion matrix\n",
    "mt.plot_confusion_matrix(y_test,yhat_nn,normalize=False,figsize=(12,12));\n",
    "\n",
    "\n",
    "##-----------------------Metricas que usaremos no futuro-----------------------------------\n",
    "#Balanced accuracy\n",
    "#F-Score Balanced\n",
    "#Recall-Balanced\n",
    "#ROC\n",
    "#Kappa Metrics\n",
    "#Mattew Metrics"
   ]
  },
  {
   "cell_type": "code",
   "execution_count": null,
   "id": "e9e34509",
   "metadata": {
    "hidden": true
   },
   "outputs": [],
   "source": []
  }
 ],
 "metadata": {
  "kernelspec": {
   "display_name": "Python 3 (ipykernel)",
   "language": "python",
   "name": "python3"
  },
  "language_info": {
   "codemirror_mode": {
    "name": "ipython",
    "version": 3
   },
   "file_extension": ".py",
   "mimetype": "text/x-python",
   "name": "python",
   "nbconvert_exporter": "python",
   "pygments_lexer": "ipython3",
   "version": "3.9.12"
  }
 },
 "nbformat": 4,
 "nbformat_minor": 5
}
